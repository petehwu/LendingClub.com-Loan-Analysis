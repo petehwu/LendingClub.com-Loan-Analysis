{
 "cells": [
  {
   "cell_type": "code",
   "execution_count": null,
   "metadata": {
    "collapsed": true
   },
   "outputs": [],
   "source": [
    "!pip install imblearn"
   ]
  },
  {
   "cell_type": "code",
   "execution_count": null,
   "metadata": {
    "collapsed": true
   },
   "outputs": [],
   "source": [
    "!pip install --upgrade sklearn"
   ]
  },
  {
   "cell_type": "code",
   "execution_count": 1,
   "metadata": {
    "collapsed": true
   },
   "outputs": [],
   "source": [
    "from scipy import stats\n",
    "from imblearn.over_sampling import SMOTE\n",
    "from sklearn.pipeline import Pipeline\n",
    "from sklearn.ensemble import RandomForestClassifier, AdaBoostClassifier\n",
    "from sklearn.model_selection import GridSearchCV,ShuffleSplit, train_test_split\n",
    "from sklearn.preprocessing import StandardScaler\n",
    "#from sklearn.feature_selection import SelectFromModel, SelectKBest, f_classif\n",
    "#from sklearn.linear_model import ElasticNet, LogisticRegression\n",
    "from sklearn.metrics import confusion_matrix, roc_auc_score, f1_score, precision_score\n",
    "import pandas as pd\n",
    "import matplotlib.pyplot as plt\n",
    "import seaborn as sns\n",
    "import numpy as np\n",
    "from sklearn.externals import joblib\n",
    "%matplotlib inline\n",
    "pd.set_option('display.max_columns', None) \n",
    "pd.set_option(\"display.max_rows\",100)"
   ]
  },
  {
   "cell_type": "code",
   "execution_count": null,
   "metadata": {
    "collapsed": true
   },
   "outputs": [],
   "source": [
    "pd.__version__"
   ]
  },
  {
   "cell_type": "code",
   "execution_count": 73,
   "metadata": {
    "collapsed": true
   },
   "outputs": [],
   "source": [
    "df = pd.read_pickle('/Users/pwu/dsi-plus/capstone/docker/postgres/data/final_long_low_09092017.pkl')\n",
    "df_no_outlier = pd.read_pickle('/Users/pwu/dsi-plus/capstone/docker/postgres/data/final_long_low_no_outlier_09092017.pkl')"
   ]
  },
  {
   "cell_type": "code",
   "execution_count": 74,
   "metadata": {},
   "outputs": [
    {
     "data": {
      "text/plain": [
       "(135671, 60)"
      ]
     },
     "execution_count": 74,
     "metadata": {},
     "output_type": "execute_result"
    }
   ],
   "source": [
    "df.shape"
   ]
  },
  {
   "cell_type": "code",
   "execution_count": 75,
   "metadata": {},
   "outputs": [
    {
     "data": {
      "text/plain": [
       "(93080, 60)"
      ]
     },
     "execution_count": 75,
     "metadata": {},
     "output_type": "execute_result"
    }
   ],
   "source": [
    "df_no_outlier.shape"
   ]
  },
  {
   "cell_type": "code",
   "execution_count": 84,
   "metadata": {},
   "outputs": [
    {
     "name": "stdout",
     "output_type": "stream",
     "text": [
      "<class 'pandas.core.frame.DataFrame'>\n",
      "Int64Index: 135671 entries, 1 to 1524046\n",
      "Data columns (total 60 columns):\n",
      "loan_amnt                     135671 non-null float64\n",
      "int_rate                      135671 non-null float64\n",
      "sub_grade                     135671 non-null object\n",
      "emp_length                    135671 non-null object\n",
      "home_ownership                135671 non-null object\n",
      "annual_inc                    135671 non-null float64\n",
      "verification_status           135671 non-null object\n",
      "loan_status                   135671 non-null object\n",
      "purpose                       135671 non-null object\n",
      "addr_state                    135671 non-null object\n",
      "dti                           135671 non-null float64\n",
      "delinq_2yrs                   135671 non-null float64\n",
      "inq_last_6mths                135671 non-null float64\n",
      "open_acc                      135671 non-null float64\n",
      "pub_rec                       135671 non-null float64\n",
      "revol_bal                     135671 non-null float64\n",
      "revol_util                    135671 non-null float64\n",
      "total_acc                     135671 non-null float64\n",
      "collections_12_mths_ex_med    135671 non-null float64\n",
      "acc_now_delinq                135671 non-null float64\n",
      "tot_coll_amt                  135671 non-null float64\n",
      "tot_cur_bal                   135671 non-null float64\n",
      "total_rev_hi_lim              135671 non-null float64\n",
      "acc_open_past_24mths          135671 non-null float64\n",
      "avg_cur_bal                   135671 non-null float64\n",
      "bc_open_to_buy                135671 non-null float64\n",
      "bc_util                       135671 non-null float64\n",
      "chargeoff_within_12_mths      135671 non-null float64\n",
      "delinq_amnt                   135671 non-null float64\n",
      "mo_sin_old_il_acct            135671 non-null float64\n",
      "mo_sin_old_rev_tl_op          135671 non-null float64\n",
      "mo_sin_rcnt_rev_tl_op         135671 non-null float64\n",
      "mo_sin_rcnt_tl                135671 non-null float64\n",
      "mort_acc                      135671 non-null float64\n",
      "mths_since_recent_bc          135671 non-null float64\n",
      "mths_since_recent_inq         135671 non-null float64\n",
      "num_accts_ever_120_pd         135671 non-null float64\n",
      "num_actv_bc_tl                135671 non-null float64\n",
      "num_actv_rev_tl               135671 non-null float64\n",
      "num_bc_sats                   135671 non-null float64\n",
      "num_bc_tl                     135671 non-null float64\n",
      "num_il_tl                     135671 non-null float64\n",
      "num_op_rev_tl                 135671 non-null float64\n",
      "num_rev_accts                 135671 non-null float64\n",
      "num_rev_tl_bal_gt_0           135671 non-null float64\n",
      "num_sats                      135671 non-null float64\n",
      "num_tl_120dpd_2m              135671 non-null float64\n",
      "num_tl_30dpd                  135671 non-null float64\n",
      "num_tl_90g_dpd_24m            135671 non-null float64\n",
      "num_tl_op_past_12m            135671 non-null float64\n",
      "pct_tl_nvr_dlq                135671 non-null float64\n",
      "percent_bc_gt_75              135671 non-null float64\n",
      "pub_rec_bankruptcies          135671 non-null float64\n",
      "tax_liens                     135671 non-null float64\n",
      "tot_hi_cred_lim               135671 non-null float64\n",
      "total_bal_ex_mort             135671 non-null float64\n",
      "total_bc_limit                135671 non-null float64\n",
      "total_il_high_credit_limit    135671 non-null float64\n",
      "fico_mean                     135671 non-null float64\n",
      "cr_line_days                  135671 non-null int64\n",
      "dtypes: float64(52), int64(1), object(7)\n",
      "memory usage: 63.1+ MB\n"
     ]
    }
   ],
   "source": [
    "df.info(verbose=True)"
   ]
  },
  {
   "cell_type": "code",
   "execution_count": 77,
   "metadata": {
    "collapsed": true
   },
   "outputs": [],
   "source": [
    "#long_term_outlier.info(verbose = True)"
   ]
  },
  {
   "cell_type": "code",
   "execution_count": 78,
   "metadata": {
    "collapsed": true
   },
   "outputs": [],
   "source": [
    "long_term_outlier = pd.get_dummies(df, columns = ['sub_grade','emp_length','home_ownership','verification_status', 'loan_status','purpose', 'addr_state'])\n",
    "y_outlier = long_term_outlier['loan_status_Fully Paid']\n"
   ]
  },
  {
   "cell_type": "code",
   "execution_count": 79,
   "metadata": {
    "collapsed": true
   },
   "outputs": [],
   "source": [
    "long_term_no_outlier = pd.get_dummies(df_no_outlier, columns = ['sub_grade','emp_length','home_ownership','verification_status', 'loan_status','purpose', 'addr_state'])\n",
    "y_no_outlier = long_term_no_outlier['loan_status_Fully Paid']\n"
   ]
  },
  {
   "cell_type": "code",
   "execution_count": 80,
   "metadata": {},
   "outputs": [
    {
     "data": {
      "text/plain": [
       "(135671, 165)"
      ]
     },
     "execution_count": 80,
     "metadata": {},
     "output_type": "execute_result"
    }
   ],
   "source": [
    "long_term_outlier.shape"
   ]
  },
  {
   "cell_type": "code",
   "execution_count": 81,
   "metadata": {},
   "outputs": [
    {
     "data": {
      "text/plain": [
       "(93080, 165)"
      ]
     },
     "execution_count": 81,
     "metadata": {},
     "output_type": "execute_result"
    }
   ],
   "source": [
    "long_term_no_outlier.shape"
   ]
  },
  {
   "cell_type": "code",
   "execution_count": 82,
   "metadata": {
    "collapsed": true
   },
   "outputs": [],
   "source": [
    "long_term_outlier.drop(['loan_status_Fully Paid', 'loan_status_Charged Off'], axis = 1, inplace = True)"
   ]
  },
  {
   "cell_type": "code",
   "execution_count": 83,
   "metadata": {
    "collapsed": true
   },
   "outputs": [],
   "source": [
    "long_term_no_outlier.drop(['loan_status_Fully Paid', 'loan_status_Charged Off'], axis = 1, inplace = True)"
   ]
  },
  {
   "cell_type": "code",
   "execution_count": 85,
   "metadata": {
    "collapsed": true
   },
   "outputs": [],
   "source": [
    "X_train_out, X_test_out, y_train_out, y_test_out = train_test_split(long_term_outlier, y_outlier, stratify = y_outlier, test_size=0.3, random_state=42)"
   ]
  },
  {
   "cell_type": "code",
   "execution_count": 86,
   "metadata": {
    "collapsed": true
   },
   "outputs": [],
   "source": [
    "X_train_no_out, X_test_no_out, y_train_no_out, y_test_no_out = train_test_split(long_term_no_outlier, y_no_outlier, stratify = y_no_outlier, test_size=0.3, random_state=42)"
   ]
  },
  {
   "cell_type": "code",
   "execution_count": 87,
   "metadata": {
    "collapsed": true
   },
   "outputs": [],
   "source": [
    "sm = SMOTE(random_state=12, ratio = 'auto')"
   ]
  },
  {
   "cell_type": "code",
   "execution_count": 88,
   "metadata": {
    "collapsed": true
   },
   "outputs": [],
   "source": [
    "X_train_res_out, y_train_res_out = sm.fit_sample(X_train_out, y_train_out)"
   ]
  },
  {
   "cell_type": "code",
   "execution_count": 89,
   "metadata": {
    "collapsed": true
   },
   "outputs": [],
   "source": [
    "X_train_res_no_out, y_train_res_no_out = sm.fit_sample(X_train_no_out, y_train_no_out)"
   ]
  },
  {
   "cell_type": "code",
   "execution_count": null,
   "metadata": {
    "collapsed": true
   },
   "outputs": [],
   "source": [
    "#BASELINE - Outliers - NO oversampling"
   ]
  },
  {
   "cell_type": "code",
   "execution_count": 90,
   "metadata": {
    "collapsed": true
   },
   "outputs": [],
   "source": [
    "#Create  AdaBoostpipeline\n",
    "adapipe = Pipeline([\n",
    "    ('gbc', AdaBoostClassifier())\n",
    "])\n",
    "#Create parameters list\n",
    "adaparams = {\n",
    "    \n",
    "    'gbc__learning_rate':[1,1.5],\n",
    "    'gbc__n_estimators':[250,300] \n",
    "}\n",
    "#grid search\n",
    "adags = GridSearchCV(adapipe,\n",
    "                      adaparams,\n",
    "                      cv=ShuffleSplit(n_splits=5, random_state=42), \n",
    "                      n_jobs= -1\n",
    "                     )"
   ]
  },
  {
   "cell_type": "code",
   "execution_count": 91,
   "metadata": {
    "collapsed": true
   },
   "outputs": [],
   "source": [
    "adamodel = adags.fit(X_train_out, y_train_out)"
   ]
  },
  {
   "cell_type": "code",
   "execution_count": 92,
   "metadata": {},
   "outputs": [
    {
     "data": {
      "text/plain": [
       "['/Users/pwu/dsi-plus/capstone/docker/postgres/data/adamodel1.pkl']"
      ]
     },
     "execution_count": 92,
     "metadata": {},
     "output_type": "execute_result"
    }
   ],
   "source": [
    "joblib.dump(adamodel, '/Users/pwu/dsi-plus/capstone/docker/postgres/data/adamodel1.pkl')\n"
   ]
  },
  {
   "cell_type": "code",
   "execution_count": 34,
   "metadata": {},
   "outputs": [
    {
     "data": {
      "text/plain": [
       "{'gbc__learning_rate': 1, 'gbc__n_estimators': 300}"
      ]
     },
     "execution_count": 34,
     "metadata": {},
     "output_type": "execute_result"
    }
   ],
   "source": [
    "adamodel.best_params_"
   ]
  },
  {
   "cell_type": "code",
   "execution_count": 35,
   "metadata": {},
   "outputs": [
    {
     "data": {
      "text/plain": [
       "Pipeline(memory=None,\n",
       "     steps=[('gbc', AdaBoostClassifier(algorithm='SAMME.R', base_estimator=None, learning_rate=1,\n",
       "          n_estimators=300, random_state=None))])"
      ]
     },
     "execution_count": 35,
     "metadata": {},
     "output_type": "execute_result"
    }
   ],
   "source": [
    "adamodel.best_estimator_"
   ]
  },
  {
   "cell_type": "code",
   "execution_count": 42,
   "metadata": {
    "collapsed": true
   },
   "outputs": [],
   "source": [
    "#Baseline Training Score"
   ]
  },
  {
   "cell_type": "code",
   "execution_count": 36,
   "metadata": {
    "collapsed": true
   },
   "outputs": [],
   "source": [
    "y_train_out_pred = adags.predict(X_train_out)"
   ]
  },
  {
   "cell_type": "code",
   "execution_count": 37,
   "metadata": {},
   "outputs": [
    {
     "data": {
      "text/plain": [
       "(54528, 6581, 24471, 9389)"
      ]
     },
     "execution_count": 37,
     "metadata": {},
     "output_type": "execute_result"
    }
   ],
   "source": [
    " tn, fp, fn, tp = confusion_matrix(y_train_out, y_train_out_pred).ravel()\n",
    "(tn, fp, fn, tp)"
   ]
  },
  {
   "cell_type": "code",
   "execution_count": 38,
   "metadata": {},
   "outputs": [
    {
     "name": "stdout",
     "output_type": "stream",
     "text": [
      "specificity: 0.8923\n",
      "accuracy: 0.673\n",
      "precision: 0.5879\n",
      "recall/sensitivity: 0.2773\n"
     ]
    }
   ],
   "source": [
    "recall = tp/(tp+fn)\n",
    "precision = tp/(tp+fp)\n",
    "accuracy = (tp + tn) / (tp + tn + fp + fn)\n",
    "specificity = tn/(tn+fp)\n",
    "print('specificity: {}'.format(specificity.round(4)))\n",
    "print('accuracy: {}'.format(accuracy.round(4)))\n",
    "print('precision: {}'.format(precision.round(4)))\n",
    "print('recall/sensitivity: {}'.format(recall.round(4)))"
   ]
  },
  {
   "cell_type": "code",
   "execution_count": 39,
   "metadata": {},
   "outputs": [
    {
     "data": {
      "text/html": [
       "<div>\n",
       "<style>\n",
       "    .dataframe thead tr:only-child th {\n",
       "        text-align: right;\n",
       "    }\n",
       "\n",
       "    .dataframe thead th {\n",
       "        text-align: left;\n",
       "    }\n",
       "\n",
       "    .dataframe tbody tr th {\n",
       "        vertical-align: top;\n",
       "    }\n",
       "</style>\n",
       "<table border=\"1\" class=\"dataframe\">\n",
       "  <thead>\n",
       "    <tr style=\"text-align: right;\">\n",
       "      <th></th>\n",
       "      <th>Feature_Name</th>\n",
       "      <th>Feature_Importance</th>\n",
       "    </tr>\n",
       "  </thead>\n",
       "  <tbody>\n",
       "    <tr>\n",
       "      <th>1</th>\n",
       "      <td>int_rate</td>\n",
       "      <td>0.063333</td>\n",
       "    </tr>\n",
       "    <tr>\n",
       "      <th>3</th>\n",
       "      <td>dti</td>\n",
       "      <td>0.060000</td>\n",
       "    </tr>\n",
       "    <tr>\n",
       "      <th>2</th>\n",
       "      <td>annual_inc</td>\n",
       "      <td>0.050000</td>\n",
       "    </tr>\n",
       "    <tr>\n",
       "      <th>47</th>\n",
       "      <td>tot_hi_cred_lim</td>\n",
       "      <td>0.040000</td>\n",
       "    </tr>\n",
       "    <tr>\n",
       "      <th>0</th>\n",
       "      <td>loan_amnt</td>\n",
       "      <td>0.036667</td>\n",
       "    </tr>\n",
       "    <tr>\n",
       "      <th>10</th>\n",
       "      <td>total_acc</td>\n",
       "      <td>0.030000</td>\n",
       "    </tr>\n",
       "    <tr>\n",
       "      <th>27</th>\n",
       "      <td>mths_since_recent_bc</td>\n",
       "      <td>0.030000</td>\n",
       "    </tr>\n",
       "    <tr>\n",
       "      <th>23</th>\n",
       "      <td>mo_sin_old_rev_tl_op</td>\n",
       "      <td>0.030000</td>\n",
       "    </tr>\n",
       "    <tr>\n",
       "      <th>51</th>\n",
       "      <td>fico_mean</td>\n",
       "      <td>0.026667</td>\n",
       "    </tr>\n",
       "    <tr>\n",
       "      <th>19</th>\n",
       "      <td>bc_util</td>\n",
       "      <td>0.026667</td>\n",
       "    </tr>\n",
       "    <tr>\n",
       "      <th>9</th>\n",
       "      <td>revol_util</td>\n",
       "      <td>0.023333</td>\n",
       "    </tr>\n",
       "    <tr>\n",
       "      <th>18</th>\n",
       "      <td>bc_open_to_buy</td>\n",
       "      <td>0.023333</td>\n",
       "    </tr>\n",
       "    <tr>\n",
       "      <th>15</th>\n",
       "      <td>total_rev_hi_lim</td>\n",
       "      <td>0.023333</td>\n",
       "    </tr>\n",
       "    <tr>\n",
       "      <th>16</th>\n",
       "      <td>acc_open_past_24mths</td>\n",
       "      <td>0.023333</td>\n",
       "    </tr>\n",
       "    <tr>\n",
       "      <th>48</th>\n",
       "      <td>total_bal_ex_mort</td>\n",
       "      <td>0.020000</td>\n",
       "    </tr>\n",
       "    <tr>\n",
       "      <th>49</th>\n",
       "      <td>total_bc_limit</td>\n",
       "      <td>0.020000</td>\n",
       "    </tr>\n",
       "    <tr>\n",
       "      <th>52</th>\n",
       "      <td>cr_line_days</td>\n",
       "      <td>0.020000</td>\n",
       "    </tr>\n",
       "    <tr>\n",
       "      <th>34</th>\n",
       "      <td>num_il_tl</td>\n",
       "      <td>0.016667</td>\n",
       "    </tr>\n",
       "    <tr>\n",
       "      <th>24</th>\n",
       "      <td>mo_sin_rcnt_rev_tl_op</td>\n",
       "      <td>0.016667</td>\n",
       "    </tr>\n",
       "    <tr>\n",
       "      <th>37</th>\n",
       "      <td>num_rev_tl_bal_gt_0</td>\n",
       "      <td>0.016667</td>\n",
       "    </tr>\n",
       "  </tbody>\n",
       "</table>\n",
       "</div>"
      ],
      "text/plain": [
       "             Feature_Name  Feature_Importance\n",
       "1                int_rate            0.063333\n",
       "3                     dti            0.060000\n",
       "2              annual_inc            0.050000\n",
       "47        tot_hi_cred_lim            0.040000\n",
       "0               loan_amnt            0.036667\n",
       "10              total_acc            0.030000\n",
       "27   mths_since_recent_bc            0.030000\n",
       "23   mo_sin_old_rev_tl_op            0.030000\n",
       "51              fico_mean            0.026667\n",
       "19                bc_util            0.026667\n",
       "9              revol_util            0.023333\n",
       "18         bc_open_to_buy            0.023333\n",
       "15       total_rev_hi_lim            0.023333\n",
       "16   acc_open_past_24mths            0.023333\n",
       "48      total_bal_ex_mort            0.020000\n",
       "49         total_bc_limit            0.020000\n",
       "52           cr_line_days            0.020000\n",
       "34              num_il_tl            0.016667\n",
       "24  mo_sin_rcnt_rev_tl_op            0.016667\n",
       "37    num_rev_tl_bal_gt_0            0.016667"
      ]
     },
     "execution_count": 39,
     "metadata": {},
     "output_type": "execute_result"
    }
   ],
   "source": [
    "adaresult_df = pd.DataFrame(list(zip(X_train_out.columns,adamodel.best_estimator_.named_steps['gbc'].feature_importances_)))\n",
    "adaresult_df.columns = ['Feature_Name', 'Feature_Importance']\n",
    "adaresult_df.sort_values(['Feature_Importance'], ascending = False).head(20)"
   ]
  },
  {
   "cell_type": "code",
   "execution_count": null,
   "metadata": {
    "collapsed": true
   },
   "outputs": [],
   "source": [
    "#Testing Data Score"
   ]
  },
  {
   "cell_type": "code",
   "execution_count": 112,
   "metadata": {
    "collapsed": true
   },
   "outputs": [],
   "source": [
    "y_pred_out = adamodel.predict(X_test_out)"
   ]
  },
  {
   "cell_type": "code",
   "execution_count": 113,
   "metadata": {},
   "outputs": [
    {
     "data": {
      "text/plain": [
       "(3918, 10594, 3002, 23188)"
      ]
     },
     "execution_count": 113,
     "metadata": {},
     "output_type": "execute_result"
    }
   ],
   "source": [
    " tn, fp, fn, tp = confusion_matrix(y_test_out, y_pred_out).ravel()\n",
    "(tn, fp, fn, tp)"
   ]
  },
  {
   "cell_type": "code",
   "execution_count": 114,
   "metadata": {},
   "outputs": [
    {
     "name": "stdout",
     "output_type": "stream",
     "text": [
      "specificity: 0.27\n",
      "accuracy: 0.666\n",
      "precision: 0.6864\n",
      "recall/sensitivity: 0.8854\n"
     ]
    }
   ],
   "source": [
    "recall = tp/(tp+fn)\n",
    "precision = tp/(tp+fp)\n",
    "accuracy = (tp + tn) / (tp + tn + fp + fn)\n",
    "specificity = tn/(tn+fp)\n",
    "print('specificity: {}'.format(specificity.round(4)))\n",
    "print('accuracy: {}'.format(accuracy.round(4)))\n",
    "print('precision: {}'.format(precision.round(4)))\n",
    "print('recall/sensitivity: {}'.format(recall.round(4)))"
   ]
  },
  {
   "cell_type": "code",
   "execution_count": 43,
   "metadata": {},
   "outputs": [
    {
     "data": {
      "text/html": [
       "<div>\n",
       "<style>\n",
       "    .dataframe thead tr:only-child th {\n",
       "        text-align: right;\n",
       "    }\n",
       "\n",
       "    .dataframe thead th {\n",
       "        text-align: left;\n",
       "    }\n",
       "\n",
       "    .dataframe tbody tr th {\n",
       "        vertical-align: top;\n",
       "    }\n",
       "</style>\n",
       "<table border=\"1\" class=\"dataframe\">\n",
       "  <thead>\n",
       "    <tr style=\"text-align: right;\">\n",
       "      <th></th>\n",
       "      <th>Feature_Name</th>\n",
       "      <th>Feature_Importance</th>\n",
       "    </tr>\n",
       "  </thead>\n",
       "  <tbody>\n",
       "    <tr>\n",
       "      <th>1</th>\n",
       "      <td>int_rate</td>\n",
       "      <td>0.063333</td>\n",
       "    </tr>\n",
       "    <tr>\n",
       "      <th>3</th>\n",
       "      <td>dti</td>\n",
       "      <td>0.060000</td>\n",
       "    </tr>\n",
       "    <tr>\n",
       "      <th>2</th>\n",
       "      <td>annual_inc</td>\n",
       "      <td>0.050000</td>\n",
       "    </tr>\n",
       "    <tr>\n",
       "      <th>47</th>\n",
       "      <td>tot_hi_cred_lim</td>\n",
       "      <td>0.040000</td>\n",
       "    </tr>\n",
       "    <tr>\n",
       "      <th>0</th>\n",
       "      <td>loan_amnt</td>\n",
       "      <td>0.036667</td>\n",
       "    </tr>\n",
       "    <tr>\n",
       "      <th>10</th>\n",
       "      <td>total_acc</td>\n",
       "      <td>0.030000</td>\n",
       "    </tr>\n",
       "    <tr>\n",
       "      <th>27</th>\n",
       "      <td>mths_since_recent_bc</td>\n",
       "      <td>0.030000</td>\n",
       "    </tr>\n",
       "    <tr>\n",
       "      <th>23</th>\n",
       "      <td>mo_sin_old_rev_tl_op</td>\n",
       "      <td>0.030000</td>\n",
       "    </tr>\n",
       "    <tr>\n",
       "      <th>51</th>\n",
       "      <td>fico_mean</td>\n",
       "      <td>0.026667</td>\n",
       "    </tr>\n",
       "    <tr>\n",
       "      <th>19</th>\n",
       "      <td>bc_util</td>\n",
       "      <td>0.026667</td>\n",
       "    </tr>\n",
       "  </tbody>\n",
       "</table>\n",
       "</div>"
      ],
      "text/plain": [
       "            Feature_Name  Feature_Importance\n",
       "1               int_rate            0.063333\n",
       "3                    dti            0.060000\n",
       "2             annual_inc            0.050000\n",
       "47       tot_hi_cred_lim            0.040000\n",
       "0              loan_amnt            0.036667\n",
       "10             total_acc            0.030000\n",
       "27  mths_since_recent_bc            0.030000\n",
       "23  mo_sin_old_rev_tl_op            0.030000\n",
       "51             fico_mean            0.026667\n",
       "19               bc_util            0.026667"
      ]
     },
     "execution_count": 43,
     "metadata": {},
     "output_type": "execute_result"
    }
   ],
   "source": [
    "adaresult_df = pd.DataFrame(list(zip(X_test_out.columns,adamodel.best_estimator_.named_steps['gbc'].feature_importances_)))\n",
    "adaresult_df.columns = ['Feature_Name', 'Feature_Importance']\n",
    "adaresult_df.sort_values(['Feature_Importance'], ascending = False).head(10)"
   ]
  },
  {
   "cell_type": "code",
   "execution_count": null,
   "metadata": {
    "collapsed": true
   },
   "outputs": [],
   "source": [
    "# No Outliers - No Oversampling"
   ]
  },
  {
   "cell_type": "code",
   "execution_count": 19,
   "metadata": {
    "collapsed": true
   },
   "outputs": [],
   "source": [
    "#Create  AdaBoostpipeline\n",
    "adapipe2 = Pipeline([\n",
    "    ('gbc', AdaBoostClassifier())\n",
    "])\n",
    "#Create parameters list\n",
    "adaparams2 = {\n",
    "    \n",
    "   'gbc__learning_rate':[1,1.5],\n",
    "    'gbc__n_estimators':[250,300] \n",
    "}\n",
    "#grid search\n",
    "adags2 = GridSearchCV(adapipe,\n",
    "                      adaparams,\n",
    "                      cv=ShuffleSplit(n_splits=5, random_state=42), \n",
    "                      n_jobs= -1\n",
    "                     )"
   ]
  },
  {
   "cell_type": "code",
   "execution_count": 93,
   "metadata": {},
   "outputs": [],
   "source": [
    "adamodel2 = adags2.fit(X_train_no_out, y_train_no_out)"
   ]
  },
  {
   "cell_type": "code",
   "execution_count": 94,
   "metadata": {},
   "outputs": [
    {
     "data": {
      "text/plain": [
       "['/Users/pwu/dsi-plus/capstone/docker/postgres/data/adamodel2.pkl']"
      ]
     },
     "execution_count": 94,
     "metadata": {},
     "output_type": "execute_result"
    }
   ],
   "source": [
    "joblib.dump(adamodel2, '/Users/pwu/dsi-plus/capstone/docker/postgres/data/adamodel2.pkl')"
   ]
  },
  {
   "cell_type": "code",
   "execution_count": 44,
   "metadata": {},
   "outputs": [
    {
     "data": {
      "text/plain": [
       "{'gbc__learning_rate': 1, 'gbc__n_estimators': 250}"
      ]
     },
     "execution_count": 44,
     "metadata": {},
     "output_type": "execute_result"
    }
   ],
   "source": [
    "adamodel2.best_params_"
   ]
  },
  {
   "cell_type": "code",
   "execution_count": 45,
   "metadata": {},
   "outputs": [
    {
     "data": {
      "text/plain": [
       "Pipeline(memory=None,\n",
       "     steps=[('gbc', AdaBoostClassifier(algorithm='SAMME.R', base_estimator=None, learning_rate=1,\n",
       "          n_estimators=250, random_state=None))])"
      ]
     },
     "execution_count": 45,
     "metadata": {},
     "output_type": "execute_result"
    }
   ],
   "source": [
    "adamodel2.best_estimator_"
   ]
  },
  {
   "cell_type": "code",
   "execution_count": null,
   "metadata": {
    "collapsed": true
   },
   "outputs": [],
   "source": [
    "#Training Data Score"
   ]
  },
  {
   "cell_type": "code",
   "execution_count": 115,
   "metadata": {
    "collapsed": true
   },
   "outputs": [],
   "source": [
    "y_train_pred_no_out = adamodel2.predict(X_train_no_out)"
   ]
  },
  {
   "cell_type": "code",
   "execution_count": 116,
   "metadata": {},
   "outputs": [
    {
     "data": {
      "text/plain": [
       "(6660, 16885, 4616, 36995)"
      ]
     },
     "execution_count": 116,
     "metadata": {},
     "output_type": "execute_result"
    }
   ],
   "source": [
    " tn, fp, fn, tp = confusion_matrix(y_train_no_out, y_train_pred_no_out).ravel()\n",
    "(tn, fp, fn, tp)"
   ]
  },
  {
   "cell_type": "code",
   "execution_count": 117,
   "metadata": {},
   "outputs": [
    {
     "name": "stdout",
     "output_type": "stream",
     "text": [
      "specificity: 0.2829\n",
      "accuracy: 0.67\n",
      "precision: 0.6866\n",
      "recall/sensitivity: 0.8891\n"
     ]
    }
   ],
   "source": [
    "recall = tp/(tp+fn)\n",
    "precision = tp/(tp+fp)\n",
    "accuracy = (tp + tn) / (tp + tn + fp + fn)\n",
    "specificity = tn/(tn+fp)\n",
    "print('specificity: {}'.format(specificity.round(4)))\n",
    "print('accuracy: {}'.format(accuracy.round(4)))\n",
    "print('precision: {}'.format(precision.round(4)))\n",
    "print('recall/sensitivity: {}'.format(recall.round(4)))"
   ]
  },
  {
   "cell_type": "code",
   "execution_count": 118,
   "metadata": {},
   "outputs": [
    {
     "data": {
      "text/html": [
       "<div>\n",
       "<style>\n",
       "    .dataframe thead tr:only-child th {\n",
       "        text-align: right;\n",
       "    }\n",
       "\n",
       "    .dataframe thead th {\n",
       "        text-align: left;\n",
       "    }\n",
       "\n",
       "    .dataframe tbody tr th {\n",
       "        vertical-align: top;\n",
       "    }\n",
       "</style>\n",
       "<table border=\"1\" class=\"dataframe\">\n",
       "  <thead>\n",
       "    <tr style=\"text-align: right;\">\n",
       "      <th></th>\n",
       "      <th>Feature_Name</th>\n",
       "      <th>Feature_Importance</th>\n",
       "    </tr>\n",
       "  </thead>\n",
       "  <tbody>\n",
       "    <tr>\n",
       "      <th>3</th>\n",
       "      <td>dti</td>\n",
       "      <td>0.046667</td>\n",
       "    </tr>\n",
       "    <tr>\n",
       "      <th>1</th>\n",
       "      <td>int_rate</td>\n",
       "      <td>0.046667</td>\n",
       "    </tr>\n",
       "    <tr>\n",
       "      <th>47</th>\n",
       "      <td>tot_hi_cred_lim</td>\n",
       "      <td>0.043333</td>\n",
       "    </tr>\n",
       "    <tr>\n",
       "      <th>2</th>\n",
       "      <td>annual_inc</td>\n",
       "      <td>0.040000</td>\n",
       "    </tr>\n",
       "    <tr>\n",
       "      <th>8</th>\n",
       "      <td>revol_bal</td>\n",
       "      <td>0.040000</td>\n",
       "    </tr>\n",
       "    <tr>\n",
       "      <th>0</th>\n",
       "      <td>loan_amnt</td>\n",
       "      <td>0.036667</td>\n",
       "    </tr>\n",
       "    <tr>\n",
       "      <th>18</th>\n",
       "      <td>bc_open_to_buy</td>\n",
       "      <td>0.033333</td>\n",
       "    </tr>\n",
       "    <tr>\n",
       "      <th>15</th>\n",
       "      <td>total_rev_hi_lim</td>\n",
       "      <td>0.033333</td>\n",
       "    </tr>\n",
       "    <tr>\n",
       "      <th>17</th>\n",
       "      <td>avg_cur_bal</td>\n",
       "      <td>0.030000</td>\n",
       "    </tr>\n",
       "    <tr>\n",
       "      <th>48</th>\n",
       "      <td>total_bal_ex_mort</td>\n",
       "      <td>0.030000</td>\n",
       "    </tr>\n",
       "    <tr>\n",
       "      <th>10</th>\n",
       "      <td>total_acc</td>\n",
       "      <td>0.026667</td>\n",
       "    </tr>\n",
       "    <tr>\n",
       "      <th>49</th>\n",
       "      <td>total_bc_limit</td>\n",
       "      <td>0.026667</td>\n",
       "    </tr>\n",
       "    <tr>\n",
       "      <th>14</th>\n",
       "      <td>tot_cur_bal</td>\n",
       "      <td>0.026667</td>\n",
       "    </tr>\n",
       "    <tr>\n",
       "      <th>19</th>\n",
       "      <td>bc_util</td>\n",
       "      <td>0.026667</td>\n",
       "    </tr>\n",
       "    <tr>\n",
       "      <th>23</th>\n",
       "      <td>mo_sin_old_rev_tl_op</td>\n",
       "      <td>0.026667</td>\n",
       "    </tr>\n",
       "    <tr>\n",
       "      <th>9</th>\n",
       "      <td>revol_util</td>\n",
       "      <td>0.020000</td>\n",
       "    </tr>\n",
       "    <tr>\n",
       "      <th>50</th>\n",
       "      <td>total_il_high_credit_limit</td>\n",
       "      <td>0.020000</td>\n",
       "    </tr>\n",
       "    <tr>\n",
       "      <th>51</th>\n",
       "      <td>fico_mean</td>\n",
       "      <td>0.020000</td>\n",
       "    </tr>\n",
       "    <tr>\n",
       "      <th>52</th>\n",
       "      <td>cr_line_days</td>\n",
       "      <td>0.020000</td>\n",
       "    </tr>\n",
       "    <tr>\n",
       "      <th>37</th>\n",
       "      <td>num_rev_tl_bal_gt_0</td>\n",
       "      <td>0.020000</td>\n",
       "    </tr>\n",
       "  </tbody>\n",
       "</table>\n",
       "</div>"
      ],
      "text/plain": [
       "                  Feature_Name  Feature_Importance\n",
       "3                          dti            0.046667\n",
       "1                     int_rate            0.046667\n",
       "47             tot_hi_cred_lim            0.043333\n",
       "2                   annual_inc            0.040000\n",
       "8                    revol_bal            0.040000\n",
       "0                    loan_amnt            0.036667\n",
       "18              bc_open_to_buy            0.033333\n",
       "15            total_rev_hi_lim            0.033333\n",
       "17                 avg_cur_bal            0.030000\n",
       "48           total_bal_ex_mort            0.030000\n",
       "10                   total_acc            0.026667\n",
       "49              total_bc_limit            0.026667\n",
       "14                 tot_cur_bal            0.026667\n",
       "19                     bc_util            0.026667\n",
       "23        mo_sin_old_rev_tl_op            0.026667\n",
       "9                   revol_util            0.020000\n",
       "50  total_il_high_credit_limit            0.020000\n",
       "51                   fico_mean            0.020000\n",
       "52                cr_line_days            0.020000\n",
       "37         num_rev_tl_bal_gt_0            0.020000"
      ]
     },
     "execution_count": 118,
     "metadata": {},
     "output_type": "execute_result"
    }
   ],
   "source": [
    "adaresult_df = pd.DataFrame(list(zip(X_train_no_out.columns,adamodel2.best_estimator_.named_steps['gbc'].feature_importances_)))\n",
    "adaresult_df.columns = ['Feature_Name', 'Feature_Importance']\n",
    "adaresult_df.sort_values(['Feature_Importance'], ascending = False).head(20)"
   ]
  },
  {
   "cell_type": "code",
   "execution_count": null,
   "metadata": {
    "collapsed": true
   },
   "outputs": [],
   "source": [
    "#Testing Data Score"
   ]
  },
  {
   "cell_type": "code",
   "execution_count": 119,
   "metadata": {
    "collapsed": true
   },
   "outputs": [],
   "source": [
    "y_pred_no_out = adamodel2.predict(X_test_no_out)"
   ]
  },
  {
   "cell_type": "code",
   "execution_count": 120,
   "metadata": {},
   "outputs": [
    {
     "data": {
      "text/plain": [
       "(2700, 7391, 2089, 15744)"
      ]
     },
     "execution_count": 120,
     "metadata": {},
     "output_type": "execute_result"
    }
   ],
   "source": [
    "tn, fp, fn, tp = confusion_matrix(y_test_no_out, y_pred_no_out).ravel()\n",
    "(tn, fp, fn, tp)"
   ]
  },
  {
   "cell_type": "code",
   "execution_count": 121,
   "metadata": {},
   "outputs": [
    {
     "name": "stdout",
     "output_type": "stream",
     "text": [
      "specificity: 0.2676\n",
      "accuracy: 0.6605\n",
      "precision: 0.6805\n",
      "recall/sensitivity: 0.8829\n"
     ]
    }
   ],
   "source": [
    "recall = tp/(tp+fn)\n",
    "precision = tp/(tp+fp)\n",
    "accuracy = (tp + tn) / (tp + tn + fp + fn)\n",
    "specificity = tn/(tn+fp)\n",
    "print('specificity: {}'.format(specificity.round(4)))\n",
    "print('accuracy: {}'.format(accuracy.round(4)))\n",
    "print('precision: {}'.format(precision.round(4)))\n",
    "print('recall/sensitivity: {}'.format(recall.round(4)))"
   ]
  },
  {
   "cell_type": "code",
   "execution_count": 54,
   "metadata": {},
   "outputs": [
    {
     "data": {
      "text/html": [
       "<div>\n",
       "<style>\n",
       "    .dataframe thead tr:only-child th {\n",
       "        text-align: right;\n",
       "    }\n",
       "\n",
       "    .dataframe thead th {\n",
       "        text-align: left;\n",
       "    }\n",
       "\n",
       "    .dataframe tbody tr th {\n",
       "        vertical-align: top;\n",
       "    }\n",
       "</style>\n",
       "<table border=\"1\" class=\"dataframe\">\n",
       "  <thead>\n",
       "    <tr style=\"text-align: right;\">\n",
       "      <th></th>\n",
       "      <th>Feature_Name</th>\n",
       "      <th>Feature_Importance</th>\n",
       "    </tr>\n",
       "  </thead>\n",
       "  <tbody>\n",
       "    <tr>\n",
       "      <th>3</th>\n",
       "      <td>dti</td>\n",
       "      <td>0.080</td>\n",
       "    </tr>\n",
       "    <tr>\n",
       "      <th>1</th>\n",
       "      <td>int_rate</td>\n",
       "      <td>0.060</td>\n",
       "    </tr>\n",
       "    <tr>\n",
       "      <th>47</th>\n",
       "      <td>tot_hi_cred_lim</td>\n",
       "      <td>0.048</td>\n",
       "    </tr>\n",
       "    <tr>\n",
       "      <th>2</th>\n",
       "      <td>annual_inc</td>\n",
       "      <td>0.044</td>\n",
       "    </tr>\n",
       "    <tr>\n",
       "      <th>0</th>\n",
       "      <td>loan_amnt</td>\n",
       "      <td>0.036</td>\n",
       "    </tr>\n",
       "    <tr>\n",
       "      <th>18</th>\n",
       "      <td>bc_open_to_buy</td>\n",
       "      <td>0.032</td>\n",
       "    </tr>\n",
       "    <tr>\n",
       "      <th>22</th>\n",
       "      <td>mo_sin_old_il_acct</td>\n",
       "      <td>0.028</td>\n",
       "    </tr>\n",
       "    <tr>\n",
       "      <th>48</th>\n",
       "      <td>total_bal_ex_mort</td>\n",
       "      <td>0.028</td>\n",
       "    </tr>\n",
       "    <tr>\n",
       "      <th>23</th>\n",
       "      <td>mo_sin_old_rev_tl_op</td>\n",
       "      <td>0.024</td>\n",
       "    </tr>\n",
       "    <tr>\n",
       "      <th>49</th>\n",
       "      <td>total_bc_limit</td>\n",
       "      <td>0.024</td>\n",
       "    </tr>\n",
       "    <tr>\n",
       "      <th>16</th>\n",
       "      <td>acc_open_past_24mths</td>\n",
       "      <td>0.024</td>\n",
       "    </tr>\n",
       "    <tr>\n",
       "      <th>37</th>\n",
       "      <td>num_rev_tl_bal_gt_0</td>\n",
       "      <td>0.024</td>\n",
       "    </tr>\n",
       "    <tr>\n",
       "      <th>52</th>\n",
       "      <td>cr_line_days</td>\n",
       "      <td>0.024</td>\n",
       "    </tr>\n",
       "    <tr>\n",
       "      <th>50</th>\n",
       "      <td>total_il_high_credit_limit</td>\n",
       "      <td>0.020</td>\n",
       "    </tr>\n",
       "    <tr>\n",
       "      <th>51</th>\n",
       "      <td>fico_mean</td>\n",
       "      <td>0.020</td>\n",
       "    </tr>\n",
       "    <tr>\n",
       "      <th>13</th>\n",
       "      <td>tot_coll_amt</td>\n",
       "      <td>0.020</td>\n",
       "    </tr>\n",
       "    <tr>\n",
       "      <th>14</th>\n",
       "      <td>tot_cur_bal</td>\n",
       "      <td>0.020</td>\n",
       "    </tr>\n",
       "    <tr>\n",
       "      <th>15</th>\n",
       "      <td>total_rev_hi_lim</td>\n",
       "      <td>0.016</td>\n",
       "    </tr>\n",
       "    <tr>\n",
       "      <th>9</th>\n",
       "      <td>revol_util</td>\n",
       "      <td>0.016</td>\n",
       "    </tr>\n",
       "    <tr>\n",
       "      <th>8</th>\n",
       "      <td>revol_bal</td>\n",
       "      <td>0.016</td>\n",
       "    </tr>\n",
       "  </tbody>\n",
       "</table>\n",
       "</div>"
      ],
      "text/plain": [
       "                  Feature_Name  Feature_Importance\n",
       "3                          dti               0.080\n",
       "1                     int_rate               0.060\n",
       "47             tot_hi_cred_lim               0.048\n",
       "2                   annual_inc               0.044\n",
       "0                    loan_amnt               0.036\n",
       "18              bc_open_to_buy               0.032\n",
       "22          mo_sin_old_il_acct               0.028\n",
       "48           total_bal_ex_mort               0.028\n",
       "23        mo_sin_old_rev_tl_op               0.024\n",
       "49              total_bc_limit               0.024\n",
       "16        acc_open_past_24mths               0.024\n",
       "37         num_rev_tl_bal_gt_0               0.024\n",
       "52                cr_line_days               0.024\n",
       "50  total_il_high_credit_limit               0.020\n",
       "51                   fico_mean               0.020\n",
       "13                tot_coll_amt               0.020\n",
       "14                 tot_cur_bal               0.020\n",
       "15            total_rev_hi_lim               0.016\n",
       "9                   revol_util               0.016\n",
       "8                    revol_bal               0.016"
      ]
     },
     "execution_count": 54,
     "metadata": {},
     "output_type": "execute_result"
    }
   ],
   "source": [
    "adaresult_df = pd.DataFrame(list(zip(X_test_no_out.columns,adamodel2.best_estimator_.named_steps['gbc'].feature_importances_)))\n",
    "adaresult_df.columns = ['Feature_Name', 'Feature_Importance']\n",
    "adaresult_df.sort_values(['Feature_Importance'], ascending = False).head(20)\n"
   ]
  },
  {
   "cell_type": "code",
   "execution_count": null,
   "metadata": {
    "collapsed": true
   },
   "outputs": [],
   "source": [
    "#Outliers with Sampling"
   ]
  },
  {
   "cell_type": "code",
   "execution_count": 20,
   "metadata": {
    "collapsed": true
   },
   "outputs": [],
   "source": [
    "#Create  AdaBoostpipeline\n",
    "adapipe3 = Pipeline([\n",
    "    #('scaler', StandardScaler()),\n",
    "    ('gbc', AdaBoostClassifier())\n",
    "])\n",
    "#Create parameters list\n",
    "adaparams3 = {\n",
    "    \n",
    "   'gbc__learning_rate':[1,1.5],\n",
    "    'gbc__n_estimators':[250,300]  \n",
    "}\n",
    "#grid search\n",
    "adags3 = GridSearchCV(adapipe,\n",
    "                      adaparams,\n",
    "                      cv=ShuffleSplit(n_splits=5, random_state=42), \n",
    "                      n_jobs= -1\n",
    "                     )\n"
   ]
  },
  {
   "cell_type": "code",
   "execution_count": 95,
   "metadata": {},
   "outputs": [],
   "source": [
    "adamodel3 = adags3.fit(X_train_res_out, y_train_res_out)"
   ]
  },
  {
   "cell_type": "code",
   "execution_count": 96,
   "metadata": {},
   "outputs": [
    {
     "data": {
      "text/plain": [
       "['/Users/pwu/dsi-plus/capstone/docker/postgres/data/adamodel3.pkl']"
      ]
     },
     "execution_count": 96,
     "metadata": {},
     "output_type": "execute_result"
    }
   ],
   "source": [
    "joblib.dump(adamodel3, '/Users/pwu/dsi-plus/capstone/docker/postgres/data/adamodel3.pkl')"
   ]
  },
  {
   "cell_type": "code",
   "execution_count": 108,
   "metadata": {},
   "outputs": [],
   "source": [
    "y_pred_res_out = adamodel3.predict(X_test_out)"
   ]
  },
  {
   "cell_type": "code",
   "execution_count": 109,
   "metadata": {},
   "outputs": [
    {
     "data": {
      "text/plain": [
       "(4457, 10055, 3698, 22492)"
      ]
     },
     "execution_count": 109,
     "metadata": {},
     "output_type": "execute_result"
    }
   ],
   "source": [
    "tn, fp, fn, tp = confusion_matrix(y_test_out, y_pred_res_out).ravel()\n",
    "(tn, fp, fn, tp)"
   ]
  },
  {
   "cell_type": "code",
   "execution_count": 110,
   "metadata": {},
   "outputs": [
    {
     "name": "stdout",
     "output_type": "stream",
     "text": [
      "specificity: 0.3071\n",
      "accuracy: 0.6621\n",
      "precision: 0.6911\n",
      "recall/sensitivity: 0.8588\n"
     ]
    }
   ],
   "source": [
    "recall = tp/(tp+fn)\n",
    "precision = tp/(tp+fp)\n",
    "accuracy = (tp + tn) / (tp + tn + fp + fn)\n",
    "specificity = tn/(tn+fp)\n",
    "print('specificity: {}'.format(specificity.round(4)))\n",
    "print('accuracy: {}'.format(accuracy.round(4)))\n",
    "print('precision: {}'.format(precision.round(4)))\n",
    "print('recall/sensitivity: {}'.format(recall.round(4)))"
   ]
  },
  {
   "cell_type": "code",
   "execution_count": 111,
   "metadata": {},
   "outputs": [
    {
     "data": {
      "text/html": [
       "<div>\n",
       "<style>\n",
       "    .dataframe thead tr:only-child th {\n",
       "        text-align: right;\n",
       "    }\n",
       "\n",
       "    .dataframe thead th {\n",
       "        text-align: left;\n",
       "    }\n",
       "\n",
       "    .dataframe tbody tr th {\n",
       "        vertical-align: top;\n",
       "    }\n",
       "</style>\n",
       "<table border=\"1\" class=\"dataframe\">\n",
       "  <thead>\n",
       "    <tr style=\"text-align: right;\">\n",
       "      <th></th>\n",
       "      <th>Feature_Name</th>\n",
       "      <th>Feature_Importance</th>\n",
       "    </tr>\n",
       "  </thead>\n",
       "  <tbody>\n",
       "    <tr>\n",
       "      <th>5</th>\n",
       "      <td>inq_last_6mths</td>\n",
       "      <td>0.083333</td>\n",
       "    </tr>\n",
       "    <tr>\n",
       "      <th>101</th>\n",
       "      <td>purpose_debt_consolidation</td>\n",
       "      <td>0.053333</td>\n",
       "    </tr>\n",
       "    <tr>\n",
       "      <th>79</th>\n",
       "      <td>emp_length_10+ years</td>\n",
       "      <td>0.040000</td>\n",
       "    </tr>\n",
       "    <tr>\n",
       "      <th>7</th>\n",
       "      <td>pub_rec</td>\n",
       "      <td>0.040000</td>\n",
       "    </tr>\n",
       "    <tr>\n",
       "      <th>4</th>\n",
       "      <td>delinq_2yrs</td>\n",
       "      <td>0.036667</td>\n",
       "    </tr>\n",
       "    <tr>\n",
       "      <th>3</th>\n",
       "      <td>dti</td>\n",
       "      <td>0.030000</td>\n",
       "    </tr>\n",
       "    <tr>\n",
       "      <th>98</th>\n",
       "      <td>verification_status_Verified</td>\n",
       "      <td>0.030000</td>\n",
       "    </tr>\n",
       "    <tr>\n",
       "      <th>117</th>\n",
       "      <td>addr_state_CA</td>\n",
       "      <td>0.030000</td>\n",
       "    </tr>\n",
       "    <tr>\n",
       "      <th>1</th>\n",
       "      <td>int_rate</td>\n",
       "      <td>0.030000</td>\n",
       "    </tr>\n",
       "    <tr>\n",
       "      <th>97</th>\n",
       "      <td>verification_status_Source Verified</td>\n",
       "      <td>0.026667</td>\n",
       "    </tr>\n",
       "    <tr>\n",
       "      <th>146</th>\n",
       "      <td>addr_state_NY</td>\n",
       "      <td>0.026667</td>\n",
       "    </tr>\n",
       "    <tr>\n",
       "      <th>2</th>\n",
       "      <td>annual_inc</td>\n",
       "      <td>0.023333</td>\n",
       "    </tr>\n",
       "    <tr>\n",
       "      <th>95</th>\n",
       "      <td>home_ownership_RENT</td>\n",
       "      <td>0.023333</td>\n",
       "    </tr>\n",
       "    <tr>\n",
       "      <th>155</th>\n",
       "      <td>addr_state_TX</td>\n",
       "      <td>0.023333</td>\n",
       "    </tr>\n",
       "    <tr>\n",
       "      <th>0</th>\n",
       "      <td>loan_amnt</td>\n",
       "      <td>0.020000</td>\n",
       "    </tr>\n",
       "    <tr>\n",
       "      <th>47</th>\n",
       "      <td>tot_hi_cred_lim</td>\n",
       "      <td>0.020000</td>\n",
       "    </tr>\n",
       "    <tr>\n",
       "      <th>57</th>\n",
       "      <td>sub_grade_C5</td>\n",
       "      <td>0.020000</td>\n",
       "    </tr>\n",
       "    <tr>\n",
       "      <th>42</th>\n",
       "      <td>num_tl_op_past_12m</td>\n",
       "      <td>0.016667</td>\n",
       "    </tr>\n",
       "    <tr>\n",
       "      <th>51</th>\n",
       "      <td>fico_mean</td>\n",
       "      <td>0.016667</td>\n",
       "    </tr>\n",
       "    <tr>\n",
       "      <th>52</th>\n",
       "      <td>cr_line_days</td>\n",
       "      <td>0.016667</td>\n",
       "    </tr>\n",
       "  </tbody>\n",
       "</table>\n",
       "</div>"
      ],
      "text/plain": [
       "                            Feature_Name  Feature_Importance\n",
       "5                         inq_last_6mths            0.083333\n",
       "101           purpose_debt_consolidation            0.053333\n",
       "79                  emp_length_10+ years            0.040000\n",
       "7                                pub_rec            0.040000\n",
       "4                            delinq_2yrs            0.036667\n",
       "3                                    dti            0.030000\n",
       "98          verification_status_Verified            0.030000\n",
       "117                        addr_state_CA            0.030000\n",
       "1                               int_rate            0.030000\n",
       "97   verification_status_Source Verified            0.026667\n",
       "146                        addr_state_NY            0.026667\n",
       "2                             annual_inc            0.023333\n",
       "95                   home_ownership_RENT            0.023333\n",
       "155                        addr_state_TX            0.023333\n",
       "0                              loan_amnt            0.020000\n",
       "47                       tot_hi_cred_lim            0.020000\n",
       "57                          sub_grade_C5            0.020000\n",
       "42                    num_tl_op_past_12m            0.016667\n",
       "51                             fico_mean            0.016667\n",
       "52                          cr_line_days            0.016667"
      ]
     },
     "execution_count": 111,
     "metadata": {},
     "output_type": "execute_result"
    }
   ],
   "source": [
    "adaresult_df = pd.DataFrame(list(zip(X_test_out.columns,adamodel3.best_estimator_.named_steps['gbc'].feature_importances_)))\n",
    "adaresult_df.columns = ['Feature_Name', 'Feature_Importance']\n",
    "adaresult_df.sort_values(['Feature_Importance'], ascending = False).head(20)"
   ]
  },
  {
   "cell_type": "code",
   "execution_count": null,
   "metadata": {
    "collapsed": true
   },
   "outputs": [],
   "source": [
    "#No Outliers with Sampling"
   ]
  },
  {
   "cell_type": "code",
   "execution_count": 21,
   "metadata": {
    "collapsed": true
   },
   "outputs": [],
   "source": [
    "#Create  AdaBoostpipeline\n",
    "adapipe4 = Pipeline([\n",
    "    #('scaler', StandardScaler()),\n",
    "    ('gbc', AdaBoostClassifier())\n",
    "])\n",
    "#Create parameters list\n",
    "adaparams4 = {\n",
    "    \n",
    "   'gbc__learning_rate':[1,1.5],\n",
    "    'gbc__n_estimators':[250,300]  \n",
    "}\n",
    "#grid search\n",
    "adags4 = GridSearchCV(adapipe,\n",
    "                      adaparams,\n",
    "                      cv=ShuffleSplit(n_splits=5, random_state=42), \n",
    "                      n_jobs= -1\n",
    "                     )\n"
   ]
  },
  {
   "cell_type": "code",
   "execution_count": 97,
   "metadata": {
    "collapsed": true
   },
   "outputs": [],
   "source": [
    "adamodel4 = adags4.fit(X_train_res_no_out, y_train_res_no_out)"
   ]
  },
  {
   "cell_type": "code",
   "execution_count": 98,
   "metadata": {},
   "outputs": [
    {
     "data": {
      "text/plain": [
       "['/Users/pwu/dsi-plus/capstone/docker/postgres/data/adamodel4.pkl']"
      ]
     },
     "execution_count": 98,
     "metadata": {},
     "output_type": "execute_result"
    }
   ],
   "source": [
    "joblib.dump(adamodel4, '/Users/pwu/dsi-plus/capstone/docker/postgres/data/adamodel4.pkl')"
   ]
  },
  {
   "cell_type": "code",
   "execution_count": 103,
   "metadata": {},
   "outputs": [
    {
     "data": {
      "text/plain": [
       "Pipeline(memory=None,\n",
       "     steps=[('gbc', AdaBoostClassifier(algorithm='SAMME.R', base_estimator=None, learning_rate=1,\n",
       "          n_estimators=300, random_state=None))])"
      ]
     },
     "execution_count": 103,
     "metadata": {},
     "output_type": "execute_result"
    }
   ],
   "source": [
    "adamodel4.best_estimator_"
   ]
  },
  {
   "cell_type": "code",
   "execution_count": 99,
   "metadata": {
    "collapsed": true
   },
   "outputs": [],
   "source": [
    "y_train_res_out = adamodel4.predict(X_train_res_no_out)"
   ]
  },
  {
   "cell_type": "code",
   "execution_count": 100,
   "metadata": {},
   "outputs": [],
   "source": [
    "y_pred_res_no_out = adamodel4.predict(X_test_no_out)"
   ]
  },
  {
   "cell_type": "code",
   "execution_count": 101,
   "metadata": {},
   "outputs": [
    {
     "data": {
      "text/plain": [
       "(2973, 7118, 2442, 15391)"
      ]
     },
     "execution_count": 101,
     "metadata": {},
     "output_type": "execute_result"
    }
   ],
   "source": [
    "tn, fp, fn, tp = confusion_matrix(y_test_no_out, y_pred_res_no_out).ravel()\n",
    "(tn, fp, fn, tp)"
   ]
  },
  {
   "cell_type": "code",
   "execution_count": 102,
   "metadata": {},
   "outputs": [
    {
     "name": "stdout",
     "output_type": "stream",
     "text": [
      "specificity: 0.2946\n",
      "accuracy: 0.6576\n",
      "precision: 0.6838\n",
      "recall/sensitivity: 0.8631\n"
     ]
    }
   ],
   "source": [
    "recall = tp/(tp+fn)\n",
    "precision = tp/(tp+fp)\n",
    "accuracy = (tp + tn) / (tp + tn + fp + fn)\n",
    "specificity = tn/(tn+fp)\n",
    "print('specificity: {}'.format(specificity.round(4)))\n",
    "print('accuracy: {}'.format(accuracy.round(4)))\n",
    "print('precision: {}'.format(precision.round(4)))\n",
    "print('recall/sensitivity: {}'.format(recall.round(4)))"
   ]
  },
  {
   "cell_type": "code",
   "execution_count": 104,
   "metadata": {},
   "outputs": [
    {
     "data": {
      "text/html": [
       "<div>\n",
       "<style>\n",
       "    .dataframe thead tr:only-child th {\n",
       "        text-align: right;\n",
       "    }\n",
       "\n",
       "    .dataframe thead th {\n",
       "        text-align: left;\n",
       "    }\n",
       "\n",
       "    .dataframe tbody tr th {\n",
       "        vertical-align: top;\n",
       "    }\n",
       "</style>\n",
       "<table border=\"1\" class=\"dataframe\">\n",
       "  <thead>\n",
       "    <tr style=\"text-align: right;\">\n",
       "      <th></th>\n",
       "      <th>Feature_Name</th>\n",
       "      <th>Feature_Importance</th>\n",
       "    </tr>\n",
       "  </thead>\n",
       "  <tbody>\n",
       "    <tr>\n",
       "      <th>5</th>\n",
       "      <td>inq_last_6mths</td>\n",
       "      <td>0.060000</td>\n",
       "    </tr>\n",
       "    <tr>\n",
       "      <th>101</th>\n",
       "      <td>purpose_debt_consolidation</td>\n",
       "      <td>0.060000</td>\n",
       "    </tr>\n",
       "    <tr>\n",
       "      <th>79</th>\n",
       "      <td>emp_length_10+ years</td>\n",
       "      <td>0.056667</td>\n",
       "    </tr>\n",
       "    <tr>\n",
       "      <th>80</th>\n",
       "      <td>emp_length_2 years</td>\n",
       "      <td>0.040000</td>\n",
       "    </tr>\n",
       "    <tr>\n",
       "      <th>97</th>\n",
       "      <td>verification_status_Source Verified</td>\n",
       "      <td>0.040000</td>\n",
       "    </tr>\n",
       "    <tr>\n",
       "      <th>98</th>\n",
       "      <td>verification_status_Verified</td>\n",
       "      <td>0.040000</td>\n",
       "    </tr>\n",
       "    <tr>\n",
       "      <th>117</th>\n",
       "      <td>addr_state_CA</td>\n",
       "      <td>0.030000</td>\n",
       "    </tr>\n",
       "    <tr>\n",
       "      <th>1</th>\n",
       "      <td>int_rate</td>\n",
       "      <td>0.030000</td>\n",
       "    </tr>\n",
       "    <tr>\n",
       "      <th>4</th>\n",
       "      <td>delinq_2yrs</td>\n",
       "      <td>0.030000</td>\n",
       "    </tr>\n",
       "    <tr>\n",
       "      <th>81</th>\n",
       "      <td>emp_length_3 years</td>\n",
       "      <td>0.026667</td>\n",
       "    </tr>\n",
       "    <tr>\n",
       "      <th>3</th>\n",
       "      <td>dti</td>\n",
       "      <td>0.023333</td>\n",
       "    </tr>\n",
       "    <tr>\n",
       "      <th>88</th>\n",
       "      <td>emp_length_&lt; 1 year</td>\n",
       "      <td>0.020000</td>\n",
       "    </tr>\n",
       "    <tr>\n",
       "      <th>29</th>\n",
       "      <td>num_accts_ever_120_pd</td>\n",
       "      <td>0.020000</td>\n",
       "    </tr>\n",
       "    <tr>\n",
       "      <th>44</th>\n",
       "      <td>percent_bc_gt_75</td>\n",
       "      <td>0.020000</td>\n",
       "    </tr>\n",
       "    <tr>\n",
       "      <th>57</th>\n",
       "      <td>sub_grade_C5</td>\n",
       "      <td>0.016667</td>\n",
       "    </tr>\n",
       "    <tr>\n",
       "      <th>47</th>\n",
       "      <td>tot_hi_cred_lim</td>\n",
       "      <td>0.016667</td>\n",
       "    </tr>\n",
       "    <tr>\n",
       "      <th>65</th>\n",
       "      <td>sub_grade_E3</td>\n",
       "      <td>0.016667</td>\n",
       "    </tr>\n",
       "    <tr>\n",
       "      <th>42</th>\n",
       "      <td>num_tl_op_past_12m</td>\n",
       "      <td>0.016667</td>\n",
       "    </tr>\n",
       "    <tr>\n",
       "      <th>155</th>\n",
       "      <td>addr_state_TX</td>\n",
       "      <td>0.016667</td>\n",
       "    </tr>\n",
       "    <tr>\n",
       "      <th>2</th>\n",
       "      <td>annual_inc</td>\n",
       "      <td>0.016667</td>\n",
       "    </tr>\n",
       "  </tbody>\n",
       "</table>\n",
       "</div>"
      ],
      "text/plain": [
       "                            Feature_Name  Feature_Importance\n",
       "5                         inq_last_6mths            0.060000\n",
       "101           purpose_debt_consolidation            0.060000\n",
       "79                  emp_length_10+ years            0.056667\n",
       "80                    emp_length_2 years            0.040000\n",
       "97   verification_status_Source Verified            0.040000\n",
       "98          verification_status_Verified            0.040000\n",
       "117                        addr_state_CA            0.030000\n",
       "1                               int_rate            0.030000\n",
       "4                            delinq_2yrs            0.030000\n",
       "81                    emp_length_3 years            0.026667\n",
       "3                                    dti            0.023333\n",
       "88                   emp_length_< 1 year            0.020000\n",
       "29                 num_accts_ever_120_pd            0.020000\n",
       "44                      percent_bc_gt_75            0.020000\n",
       "57                          sub_grade_C5            0.016667\n",
       "47                       tot_hi_cred_lim            0.016667\n",
       "65                          sub_grade_E3            0.016667\n",
       "42                    num_tl_op_past_12m            0.016667\n",
       "155                        addr_state_TX            0.016667\n",
       "2                             annual_inc            0.016667"
      ]
     },
     "execution_count": 104,
     "metadata": {},
     "output_type": "execute_result"
    }
   ],
   "source": [
    "adaresult_df = pd.DataFrame(list(zip(X_test_no_out.columns,adamodel4.best_estimator_.named_steps['gbc'].feature_importances_)))\n",
    "adaresult_df.columns = ['Feature_Name', 'Feature_Importance']\n",
    "adaresult_df.sort_values(['Feature_Importance'], ascending = False).head(20)"
   ]
  },
  {
   "cell_type": "code",
   "execution_count": null,
   "metadata": {
    "collapsed": true
   },
   "outputs": [],
   "source": []
  }
 ],
 "metadata": {
  "kernelspec": {
   "display_name": "Python [conda env:py36]",
   "language": "python",
   "name": "conda-env-py36-py"
  },
  "language_info": {
   "codemirror_mode": {
    "name": "ipython",
    "version": 3
   },
   "file_extension": ".py",
   "mimetype": "text/x-python",
   "name": "python",
   "nbconvert_exporter": "python",
   "pygments_lexer": "ipython3",
   "version": "3.6.1"
  }
 },
 "nbformat": 4,
 "nbformat_minor": 2
}
