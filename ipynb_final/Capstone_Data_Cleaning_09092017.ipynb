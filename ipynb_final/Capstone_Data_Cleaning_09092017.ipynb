{
 "cells": [
  {
   "cell_type": "code",
   "execution_count": 2,
   "metadata": {
    "collapsed": true
   },
   "outputs": [],
   "source": [
    "import pandas as pd\n",
    "pd.set_option('display.max_columns', None) \n",
    "pd.set_option(\"display.max_rows\",500)\n",
    "%matplotlib inline"
   ]
  },
  {
   "cell_type": "code",
   "execution_count": 3,
   "metadata": {},
   "outputs": [
    {
     "data": {
      "text/plain": [
       "'/Users/pwu/dsi-plus/capstone/ipynb/ipynb_final'"
      ]
     },
     "execution_count": 3,
     "metadata": {},
     "output_type": "execute_result"
    }
   ],
   "source": [
    "pwd"
   ]
  },
  {
   "cell_type": "code",
   "execution_count": 4,
   "metadata": {},
   "outputs": [
    {
     "name": "stdout",
     "output_type": "stream",
     "text": [
      "/Users/pwu/dsi-plus/capstone/docker/postgres/data\n"
     ]
    }
   ],
   "source": [
    "cd '/Users/pwu/dsi-plus/capstone/docker/postgres/data'"
   ]
  },
  {
   "cell_type": "code",
   "execution_count": 5,
   "metadata": {
    "collapsed": true
   },
   "outputs": [],
   "source": [
    "#cd '/home/jovyan/work/dsi-plus/capstone/docker/postgres/data'"
   ]
  },
  {
   "cell_type": "code",
   "execution_count": 6,
   "metadata": {},
   "outputs": [
    {
     "name": "stderr",
     "output_type": "stream",
     "text": [
      "/Users/pwu/anaconda/envs/py36/lib/python3.6/site-packages/IPython/core/interactiveshell.py:2698: DtypeWarning: Columns (0,49) have mixed types. Specify dtype option on import or set low_memory=False.\n",
      "  interactivity=interactivity, compiler=compiler, result=result)\n",
      "/Users/pwu/anaconda/envs/py36/lib/python3.6/site-packages/IPython/core/interactiveshell.py:2698: DtypeWarning: Columns (0,49,129,130,131,134,135,136,139) have mixed types. Specify dtype option on import or set low_memory=False.\n",
      "  interactivity=interactivity, compiler=compiler, result=result)\n",
      "/Users/pwu/anaconda/envs/py36/lib/python3.6/site-packages/IPython/core/interactiveshell.py:2698: DtypeWarning: Columns (0,19,129,130,131,134,135,136,139) have mixed types. Specify dtype option on import or set low_memory=False.\n",
      "  interactivity=interactivity, compiler=compiler, result=result)\n",
      "/Users/pwu/anaconda/envs/py36/lib/python3.6/site-packages/IPython/core/interactiveshell.py:2698: DtypeWarning: Columns (0,19,59) have mixed types. Specify dtype option on import or set low_memory=False.\n",
      "  interactivity=interactivity, compiler=compiler, result=result)\n",
      "/Users/pwu/anaconda/envs/py36/lib/python3.6/site-packages/IPython/core/interactiveshell.py:2698: DtypeWarning: Columns (0,19) have mixed types. Specify dtype option on import or set low_memory=False.\n",
      "  interactivity=interactivity, compiler=compiler, result=result)\n",
      "/Users/pwu/anaconda/envs/py36/lib/python3.6/site-packages/IPython/core/interactiveshell.py:2698: DtypeWarning: Columns (0,19,59,129,130,131,134,135,136,139) have mixed types. Specify dtype option on import or set low_memory=False.\n",
      "  interactivity=interactivity, compiler=compiler, result=result)\n",
      "/Users/pwu/anaconda/envs/py36/lib/python3.6/site-packages/IPython/core/interactiveshell.py:2698: DtypeWarning: Columns (0,118) have mixed types. Specify dtype option on import or set low_memory=False.\n",
      "  interactivity=interactivity, compiler=compiler, result=result)\n",
      "/Users/pwu/anaconda/envs/py36/lib/python3.6/site-packages/IPython/core/interactiveshell.py:2698: DtypeWarning: Columns (0) have mixed types. Specify dtype option on import or set low_memory=False.\n",
      "  interactivity=interactivity, compiler=compiler, result=result)\n"
     ]
    }
   ],
   "source": [
    "df_3a = pd.read_csv('LoanStats3a_securev1.csv',header = 0)\n",
    "df_3b = pd.read_csv('LoanStats3b_securev1.csv',header = 0)\n",
    "df_3c = pd.read_csv('LoanStats3c_securev1.csv',header = 0)\n",
    "df_3d = pd.read_csv('LoanStats3d_securev1.csv',header = 0)\n",
    "df_2016q1 = pd.read_csv('LoanStats_securev1_2016Q1.csv',header = 0)\n",
    "df_2016q2 = pd.read_csv('LoanStats_securev1_2016Q2.csv',header = 0)\n",
    "df_2016q3 = pd.read_csv('LoanStats_securev1_2016Q3.csv',header = 0)\n",
    "df_2016q4 = pd.read_csv('LoanStats_securev1_2016Q4.csv',header = 0)\n",
    "df_2017q1 = pd.read_csv('LoanStats_securev1_2017Q1.csv',header = 0)\n",
    "df_2017q2 = pd.read_csv('LoanStats_securev1_2017Q2.csv',header = 0)\n"
   ]
  },
  {
   "cell_type": "code",
   "execution_count": null,
   "metadata": {
    "collapsed": true
   },
   "outputs": [],
   "source": [
    "df_3a.head(2)"
   ]
  },
  {
   "cell_type": "code",
   "execution_count": null,
   "metadata": {
    "collapsed": true
   },
   "outputs": [],
   "source": [
    "frames = [df_3a, df_3b, df_3c, df_3d, df_2016q1, df_2016q2, df_2016q3, df_2016q4, df_2017q1, df_2017q2]\n",
    "result = pd.concat(frames, ignore_index = True)\n",
    "result.to_csv('lending_club_all_09092017.csv',index = False)"
   ]
  },
  {
   "cell_type": "code",
   "execution_count": null,
   "metadata": {
    "collapsed": true
   },
   "outputs": [],
   "source": [
    "result.shape"
   ]
  },
  {
   "cell_type": "code",
   "execution_count": 4,
   "metadata": {},
   "outputs": [
    {
     "name": "stderr",
     "output_type": "stream",
     "text": [
      "/Users/pwu/anaconda/envs/py36/lib/python3.6/site-packages/IPython/core/interactiveshell.py:2698: DtypeWarning: Columns (0,19,49,59,118,129,130,131,134,135,136,139) have mixed types. Specify dtype option on import or set low_memory=False.\n",
      "  interactivity=interactivity, compiler=compiler, result=result)\n"
     ]
    }
   ],
   "source": [
    "result = pd.read_csv('lending_club_all_09092017.csv')"
   ]
  },
  {
   "cell_type": "code",
   "execution_count": 5,
   "metadata": {},
   "outputs": [
    {
     "data": {
      "text/plain": [
       "(1524098, 143)"
      ]
     },
     "execution_count": 5,
     "metadata": {},
     "output_type": "execute_result"
    }
   ],
   "source": [
    "result.shape"
   ]
  },
  {
   "cell_type": "code",
   "execution_count": 6,
   "metadata": {},
   "outputs": [
    {
     "data": {
      "text/plain": [
       "(21, 143)"
      ]
     },
     "execution_count": 6,
     "metadata": {},
     "output_type": "execute_result"
    }
   ],
   "source": [
    "#some summary rows needs to be dropped from the dataframe\n",
    "mask = result['loan_amnt'].isnull()\n",
    "result[mask].shape"
   ]
  },
  {
   "cell_type": "code",
   "execution_count": 7,
   "metadata": {
    "collapsed": true
   },
   "outputs": [],
   "source": [
    "mask = result['loan_amnt'].isnull()\n",
    "result.drop(result[mask].index, axis = 0 , inplace = True)"
   ]
  },
  {
   "cell_type": "code",
   "execution_count": 8,
   "metadata": {},
   "outputs": [
    {
     "name": "stdout",
     "output_type": "stream",
     "text": [
      "<class 'pandas.core.frame.DataFrame'>\n",
      "Int64Index: 1524077 entries, 0 to 1524095\n",
      "Columns: 143 entries, id to hardship_last_payment_amount\n",
      "dtypes: float64(108), object(35)\n",
      "memory usage: 1.6+ GB\n"
     ]
    }
   ],
   "source": [
    "result.info()"
   ]
  },
  {
   "cell_type": "code",
   "execution_count": 9,
   "metadata": {},
   "outputs": [
    {
     "data": {
      "text/plain": [
       "Current                                                814609\n",
       "Fully Paid                                             530869\n",
       "Charged Off                                            132301\n",
       "Late (31-120 days)                                      21603\n",
       "In Grace Period                                         14133\n",
       "Late (16-30 days)                                        4856\n",
       "Default                                                  2090\n",
       "Does not meet the credit policy. Status:Fully Paid       1988\n",
       "Issued                                                    867\n",
       "Does not meet the credit policy. Status:Charged Off       761\n",
       "Name: loan_status, dtype: int64"
      ]
     },
     "execution_count": 9,
     "metadata": {},
     "output_type": "execute_result"
    }
   ],
   "source": [
    "result['loan_status'].value_counts()"
   ]
  },
  {
   "cell_type": "code",
   "execution_count": 10,
   "metadata": {},
   "outputs": [
    {
     "name": "stderr",
     "output_type": "stream",
     "text": [
      "/Users/pwu/anaconda/envs/py36/lib/python3.6/site-packages/ipykernel/__main__.py:9: UserWarning: Boolean Series key will be reindexed to match DataFrame index.\n",
      "/Users/pwu/anaconda/envs/py36/lib/python3.6/site-packages/ipykernel/__main__.py:10: UserWarning: Boolean Series key will be reindexed to match DataFrame index.\n",
      "/Users/pwu/anaconda/envs/py36/lib/python3.6/site-packages/ipykernel/__main__.py:11: UserWarning: Boolean Series key will be reindexed to match DataFrame index.\n",
      "/Users/pwu/anaconda/envs/py36/lib/python3.6/site-packages/ipykernel/__main__.py:12: UserWarning: Boolean Series key will be reindexed to match DataFrame index.\n",
      "/Users/pwu/anaconda/envs/py36/lib/python3.6/site-packages/ipykernel/__main__.py:13: UserWarning: Boolean Series key will be reindexed to match DataFrame index.\n"
     ]
    }
   ],
   "source": [
    "mask1 = result['loan_status'] == 'Current'\n",
    "mask2 = result['loan_status'] == 'Late (31-120 days)'\n",
    "mask3 = result['loan_status'] == 'In Grace Period'\n",
    "mask4 = result['loan_status'] == 'Late (16-30 days)'\n",
    "mask5 = result['loan_status'] == 'Issued'\n",
    "mask6 = result['loan_status'] == 'Late (31-120 days)'\n",
    "\n",
    "result.drop(result[mask1].index, inplace = True)\n",
    "result.drop(result[mask2].index, inplace = True)\n",
    "result.drop(result[mask3].index, inplace = True)\n",
    "result.drop(result[mask4].index, inplace = True)\n",
    "result.drop(result[mask5].index, inplace = True)\n",
    "result.drop(result[mask6].index, inplace = True)"
   ]
  },
  {
   "cell_type": "code",
   "execution_count": 11,
   "metadata": {},
   "outputs": [
    {
     "data": {
      "text/plain": [
       "Fully Paid                                             530869\n",
       "Charged Off                                            132301\n",
       "Default                                                  2090\n",
       "Does not meet the credit policy. Status:Fully Paid       1988\n",
       "Does not meet the credit policy. Status:Charged Off       761\n",
       "Name: loan_status, dtype: int64"
      ]
     },
     "execution_count": 11,
     "metadata": {},
     "output_type": "execute_result"
    }
   ],
   "source": [
    "result['loan_status'].value_counts()"
   ]
  },
  {
   "cell_type": "code",
   "execution_count": 12,
   "metadata": {
    "collapsed": true
   },
   "outputs": [],
   "source": [
    "mask = result['loan_status']=='Does not meet the credit policy. Status:Charged Off'\n",
    "result.loc[mask, 'loan_status']= 'Charged Off'\n",
    "mask = result['loan_status']=='Default'\n",
    "result.loc[mask, 'loan_status']= 'Charged Off'\n",
    "mask = result['loan_status']=='Does not meet the credit policy. Status:Fully Paid'\n",
    "result.loc[mask, 'loan_status']= 'Fully Paid'"
   ]
  },
  {
   "cell_type": "code",
   "execution_count": 13,
   "metadata": {},
   "outputs": [
    {
     "data": {
      "text/plain": [
       "INDIVIDUAL    665556\n",
       "JOINT           1678\n",
       "DIRECT_PAY       775\n",
       "Name: application_type, dtype: int64"
      ]
     },
     "execution_count": 13,
     "metadata": {},
     "output_type": "execute_result"
    }
   ],
   "source": [
    "result['application_type'].value_counts()"
   ]
  },
  {
   "cell_type": "code",
   "execution_count": 14,
   "metadata": {
    "collapsed": true
   },
   "outputs": [],
   "source": [
    "#drop non-individual applications\n",
    "mask = result['application_type']=='INDIVIDUAL'\n",
    "result.drop(result[~mask].index, inplace = True)"
   ]
  },
  {
   "cell_type": "code",
   "execution_count": 18,
   "metadata": {},
   "outputs": [
    {
     "name": "stdout",
     "output_type": "stream",
     "text": [
      "<class 'pandas.core.frame.DataFrame'>\n",
      "Int64Index: 665556 entries, 0 to 1524085\n",
      "Columns: 143 entries, id to hardship_last_payment_amount\n",
      "dtypes: float64(108), object(35)\n",
      "memory usage: 731.2+ MB\n"
     ]
    }
   ],
   "source": [
    "result.info()"
   ]
  },
  {
   "cell_type": "code",
   "execution_count": 17,
   "metadata": {
    "collapsed": true
   },
   "outputs": [],
   "source": [
    "result.to_pickle('/Users/pwu/dsi-plus/capstone/docker/postgres/data/cleaned_rows_09092017.pkl')"
   ]
  },
  {
   "cell_type": "code",
   "execution_count": 2,
   "metadata": {
    "collapsed": true
   },
   "outputs": [],
   "source": [
    "result = pd.read_pickle('/Users/pwu/dsi-plus/capstone/docker/postgres/data/cleaned_rows_09092017.pkl')"
   ]
  },
  {
   "cell_type": "code",
   "execution_count": 3,
   "metadata": {
    "collapsed": true
   },
   "outputs": [],
   "source": [
    "drop_fields = [\n",
    "'id',\n",
    "'member_id',\n",
    "'collection_recovery_fee',\n",
    "'deferral_term',\n",
    "#funded_amnt and funded_amnt_inv might be needed later to determine if loan still available for investment\n",
    "#'funded_amnt',\n",
    "'funded_amnt_inv',\n",
    "#get rid of all hardship related fields\n",
    "'hardship_amount',\n",
    "'hardship_dpd',\n",
    "'hardship_end_date',\n",
    "'hardship_flag',\n",
    "'hardship_last_payment_amount',\n",
    "'hardship_length',\n",
    "'hardship_loan_status',\n",
    "'hardship_payoff_balance_amount',\n",
    "'hardship_reason',\n",
    "'hardship_start_date',\n",
    "'hardship_status',\n",
    "'hardship_type',\n",
    "#'issue_d',  keep issue_date for now so I know when the loan was first issued\n",
    "'last_credit_pull_d',\n",
    "'last_fico_range_high',\n",
    "'last_fico_range_low',\n",
    "'last_pymnt_amnt',\n",
    "'last_pymnt_d',\n",
    "'next_pymnt_d',\n",
    "'orig_projected_additional_accrued_interest',\n",
    "'out_prncp',\n",
    "'out_prncp_inv',\n",
    "'payment_plan_start_date',\n",
    "'policy_code',\n",
    "'pymnt_plan',\n",
    "'recoveries',\n",
    "'revol_bal_joint',\n",
    "'sec_app_chargeoff_within_12_mths',\n",
    "'sec_app_collections_12_mths_ex_med',\n",
    "'sec_app_earliest_cr_line',\n",
    "'sec_app_fico_range_high',\n",
    "'sec_app_fico_range_low',\n",
    "'sec_app_inq_last_6mths',\n",
    "'sec_app_mort_acc',\n",
    "'sec_app_mths_since_last_major_derog',\n",
    "'sec_app_num_rev_accts',\n",
    "'sec_app_open_acc',\n",
    "'sec_app_open_il_6m',\n",
    "'sec_app_revol_util',\n",
    "#keep total_pymnt for now so I can do some calculations later\n",
    "#'total_pymnt',\n",
    "'total_pymnt_inv',\n",
    "'total_rec_int',\n",
    "'total_rec_late_fee',\n",
    "'total_rec_prncp',\n",
    "'url',\n",
    "#'verification_status',\n",
    "'verification_status_joint',\n",
    "'zip_code',  \n",
    "'application_type',    \n",
    "'annual_inc_joint',\n",
    "'dti_joint',\n",
    "#initial_list_status field shows if the loan is offered as whole loan or fractional.  Doesn't seem useful to me\n",
    "'initial_list_status']"
   ]
  },
  {
   "cell_type": "code",
   "execution_count": 4,
   "metadata": {},
   "outputs": [
    {
     "data": {
      "text/plain": [
       "54"
      ]
     },
     "execution_count": 4,
     "metadata": {},
     "output_type": "execute_result"
    }
   ],
   "source": [
    "len(drop_fields)"
   ]
  },
  {
   "cell_type": "code",
   "execution_count": 5,
   "metadata": {
    "collapsed": true
   },
   "outputs": [],
   "source": [
    "result.drop(drop_fields, axis = 1, inplace = True)"
   ]
  },
  {
   "cell_type": "code",
   "execution_count": 6,
   "metadata": {},
   "outputs": [
    {
     "data": {
      "text/plain": [
       "(665556, 89)"
      ]
     },
     "execution_count": 6,
     "metadata": {},
     "output_type": "execute_result"
    }
   ],
   "source": [
    "result.shape"
   ]
  },
  {
   "cell_type": "code",
   "execution_count": 1,
   "metadata": {},
   "outputs": [
    {
     "ename": "NameError",
     "evalue": "name 'result' is not defined",
     "output_type": "error",
     "traceback": [
      "\u001b[0;31m---------------------------------------------------------------------------\u001b[0m",
      "\u001b[0;31mNameError\u001b[0m                                 Traceback (most recent call last)",
      "\u001b[0;32m<ipython-input-1-40d7f68b39ad>\u001b[0m in \u001b[0;36m<module>\u001b[0;34m()\u001b[0m\n\u001b[1;32m      1\u001b[0m \u001b[0;31m# clean up 'term', 'int_rate', 'issue_d', 'earliest_cr_line','revol_util' columns\u001b[0m\u001b[0;34m\u001b[0m\u001b[0;34m\u001b[0m\u001b[0m\n\u001b[0;32m----> 2\u001b[0;31m \u001b[0mresult\u001b[0m\u001b[0;34m[\u001b[0m\u001b[0;34m'term'\u001b[0m\u001b[0;34m]\u001b[0m\u001b[0;34m=\u001b[0m \u001b[0mresult\u001b[0m\u001b[0;34m[\u001b[0m\u001b[0;34m'term'\u001b[0m\u001b[0;34m]\u001b[0m\u001b[0;34m.\u001b[0m\u001b[0mstr\u001b[0m\u001b[0;34m.\u001b[0m\u001b[0msplit\u001b[0m\u001b[0;34m(\u001b[0m\u001b[0;34m' '\u001b[0m\u001b[0;34m)\u001b[0m\u001b[0;34m.\u001b[0m\u001b[0mstr\u001b[0m\u001b[0;34m[\u001b[0m\u001b[0;36m1\u001b[0m\u001b[0;34m]\u001b[0m\u001b[0;34m\u001b[0m\u001b[0m\n\u001b[0m\u001b[1;32m      3\u001b[0m \u001b[0mresult\u001b[0m\u001b[0;34m[\u001b[0m\u001b[0;34m'int_rate'\u001b[0m\u001b[0;34m]\u001b[0m\u001b[0;34m=\u001b[0m\u001b[0mresult\u001b[0m\u001b[0;34m[\u001b[0m\u001b[0;34m'int_rate'\u001b[0m\u001b[0;34m]\u001b[0m\u001b[0;34m.\u001b[0m\u001b[0mstr\u001b[0m\u001b[0;34m.\u001b[0m\u001b[0msplit\u001b[0m\u001b[0;34m(\u001b[0m\u001b[0;34m'%'\u001b[0m\u001b[0;34m)\u001b[0m\u001b[0;34m.\u001b[0m\u001b[0mstr\u001b[0m\u001b[0;34m[\u001b[0m\u001b[0;36m0\u001b[0m\u001b[0;34m]\u001b[0m\u001b[0;34m.\u001b[0m\u001b[0mastype\u001b[0m\u001b[0;34m(\u001b[0m\u001b[0mfloat\u001b[0m\u001b[0;34m)\u001b[0m\u001b[0;34m/\u001b[0m\u001b[0;36m100\u001b[0m\u001b[0;34m\u001b[0m\u001b[0m\n\u001b[1;32m      4\u001b[0m \u001b[0mresult\u001b[0m\u001b[0;34m[\u001b[0m\u001b[0;34m'issue_d'\u001b[0m\u001b[0;34m]\u001b[0m \u001b[0;34m=\u001b[0m \u001b[0mpd\u001b[0m\u001b[0;34m.\u001b[0m\u001b[0mto_datetime\u001b[0m\u001b[0;34m(\u001b[0m\u001b[0mresult\u001b[0m\u001b[0;34m[\u001b[0m\u001b[0;34m'issue_d'\u001b[0m\u001b[0;34m]\u001b[0m\u001b[0;34m)\u001b[0m\u001b[0;34m\u001b[0m\u001b[0m\n\u001b[1;32m      5\u001b[0m \u001b[0mresult\u001b[0m\u001b[0;34m[\u001b[0m\u001b[0;34m'earliest_cr_line'\u001b[0m\u001b[0;34m]\u001b[0m \u001b[0;34m=\u001b[0m \u001b[0mpd\u001b[0m\u001b[0;34m.\u001b[0m\u001b[0mto_datetime\u001b[0m\u001b[0;34m(\u001b[0m\u001b[0mresult\u001b[0m\u001b[0;34m[\u001b[0m\u001b[0;34m'earliest_cr_line'\u001b[0m\u001b[0;34m]\u001b[0m\u001b[0;34m)\u001b[0m\u001b[0;34m\u001b[0m\u001b[0m\n",
      "\u001b[0;31mNameError\u001b[0m: name 'result' is not defined"
     ]
    }
   ],
   "source": [
    "# clean up 'term', 'int_rate', 'issue_d', 'earliest_cr_line','revol_util' columns\n",
    "result['term']= result['term'].str.split(' ').str[1]\n",
    "result['int_rate']=result['int_rate'].str.split('%').str[0].astype(float)/100\n",
    "result['issue_d'] = pd.to_datetime(result['issue_d'])\n",
    "result['earliest_cr_line'] = pd.to_datetime(result['earliest_cr_line'])\n",
    "result['revol_util'] = result['revol_util'].str.split('%').str[0].astype(float)/100"
   ]
  },
  {
   "cell_type": "code",
   "execution_count": 8,
   "metadata": {
    "collapsed": true
   },
   "outputs": [],
   "source": [
    "#take the mean of fico_range_low and fico_range_high \n",
    "result['fico_mean']= (result['fico_range_low'] + result['fico_range_high'])/2"
   ]
  },
  {
   "cell_type": "code",
   "execution_count": 9,
   "metadata": {
    "collapsed": true
   },
   "outputs": [],
   "source": [
    "result['term'] = result['term'].astype(int)"
   ]
  },
  {
   "cell_type": "code",
   "execution_count": 10,
   "metadata": {},
   "outputs": [
    {
     "name": "stdout",
     "output_type": "stream",
     "text": [
      "<class 'pandas.core.frame.DataFrame'>\n",
      "Int64Index: 665556 entries, 0 to 1524085\n",
      "Data columns (total 90 columns):\n",
      "loan_amnt                         665556 non-null float64\n",
      "funded_amnt                       665556 non-null float64\n",
      "term                              665556 non-null int64\n",
      "int_rate                          665556 non-null float64\n",
      "installment                       665556 non-null float64\n",
      "grade                             665556 non-null object\n",
      "sub_grade                         665556 non-null object\n",
      "emp_title                         626722 non-null object\n",
      "emp_length                        665556 non-null object\n",
      "home_ownership                    665556 non-null object\n",
      "annual_inc                        665552 non-null float64\n",
      "verification_status               665556 non-null object\n",
      "issue_d                           665556 non-null datetime64[ns]\n",
      "loan_status                       665556 non-null object\n",
      "desc                              120663 non-null object\n",
      "purpose                           665556 non-null object\n",
      "title                             660585 non-null object\n",
      "addr_state                        665556 non-null object\n",
      "dti                               665556 non-null float64\n",
      "delinq_2yrs                       665527 non-null float64\n",
      "earliest_cr_line                  665527 non-null datetime64[ns]\n",
      "fico_range_low                    665556 non-null float64\n",
      "fico_range_high                   665556 non-null float64\n",
      "inq_last_6mths                    665526 non-null float64\n",
      "mths_since_last_delinq            320038 non-null float64\n",
      "mths_since_last_record            105343 non-null float64\n",
      "open_acc                          665527 non-null float64\n",
      "pub_rec                           665527 non-null float64\n",
      "revol_bal                         665556 non-null float64\n",
      "revol_util                        665119 non-null float64\n",
      "total_acc                         665527 non-null float64\n",
      "total_pymnt                       665556 non-null float64\n",
      "collections_12_mths_ex_med        665411 non-null float64\n",
      "mths_since_last_major_derog       161223 non-null float64\n",
      "acc_now_delinq                    665527 non-null float64\n",
      "tot_coll_amt                      595449 non-null float64\n",
      "tot_cur_bal                       595449 non-null float64\n",
      "open_acc_6m                       100816 non-null float64\n",
      "open_il_6m                        100817 non-null float64\n",
      "open_il_12m                       100817 non-null float64\n",
      "open_il_24m                       100817 non-null float64\n",
      "mths_since_rcnt_il                98621 non-null float64\n",
      "total_bal_il                      100817 non-null float64\n",
      "il_util                           88016 non-null float64\n",
      "open_rv_12m                       100817 non-null float64\n",
      "open_rv_24m                       100817 non-null float64\n",
      "max_bal_bc                        100817 non-null float64\n",
      "all_util                          100810 non-null float64\n",
      "total_rev_hi_lim                  595449 non-null float64\n",
      "inq_fi                            100817 non-null float64\n",
      "total_cu_tl                       100816 non-null float64\n",
      "inq_last_12m                      100816 non-null float64\n",
      "acc_open_past_24mths              615526 non-null float64\n",
      "avg_cur_bal                       595437 non-null float64\n",
      "bc_open_to_buy                    609244 non-null float64\n",
      "bc_util                           608852 non-null float64\n",
      "chargeoff_within_12_mths          665411 non-null float64\n",
      "delinq_amnt                       665527 non-null float64\n",
      "mo_sin_old_il_acct                577698 non-null float64\n",
      "mo_sin_old_rev_tl_op              595448 non-null float64\n",
      "mo_sin_rcnt_rev_tl_op             595448 non-null float64\n",
      "mo_sin_rcnt_tl                    595449 non-null float64\n",
      "mort_acc                          615526 non-null float64\n",
      "mths_since_recent_bc              609746 non-null float64\n",
      "mths_since_recent_bc_dlq          150331 non-null float64\n",
      "mths_since_recent_inq             559449 non-null float64\n",
      "mths_since_recent_revol_delinq    210920 non-null float64\n",
      "num_accts_ever_120_pd             595449 non-null float64\n",
      "num_actv_bc_tl                    595449 non-null float64\n",
      "num_actv_rev_tl                   595449 non-null float64\n",
      "num_bc_sats                       606968 non-null float64\n",
      "num_bc_tl                         595449 non-null float64\n",
      "num_il_tl                         595449 non-null float64\n",
      "num_op_rev_tl                     595449 non-null float64\n",
      "num_rev_accts                     595448 non-null float64\n",
      "num_rev_tl_bal_gt_0               595449 non-null float64\n",
      "num_sats                          606968 non-null float64\n",
      "num_tl_120dpd_2m                  576045 non-null float64\n",
      "num_tl_30dpd                      595449 non-null float64\n",
      "num_tl_90g_dpd_24m                595449 non-null float64\n",
      "num_tl_op_past_12m                595449 non-null float64\n",
      "pct_tl_nvr_dlq                    595317 non-null float64\n",
      "percent_bc_gt_75                  609011 non-null float64\n",
      "pub_rec_bankruptcies              664191 non-null float64\n",
      "tax_liens                         665451 non-null float64\n",
      "tot_hi_cred_lim                   595449 non-null float64\n",
      "total_bal_ex_mort                 615526 non-null float64\n",
      "total_bc_limit                    615526 non-null float64\n",
      "total_il_high_credit_limit        595449 non-null float64\n",
      "fico_mean                         665556 non-null float64\n",
      "dtypes: datetime64[ns](2), float64(76), int64(1), object(11)\n",
      "memory usage: 462.1+ MB\n"
     ]
    }
   ],
   "source": [
    "result.info(verbose= True)"
   ]
  },
  {
   "cell_type": "code",
   "execution_count": null,
   "metadata": {
    "collapsed": true
   },
   "outputs": [],
   "source": []
  },
  {
   "cell_type": "code",
   "execution_count": 30,
   "metadata": {},
   "outputs": [
    {
     "data": {
      "text/html": [
       "<div>\n",
       "<style>\n",
       "    .dataframe thead tr:only-child th {\n",
       "        text-align: right;\n",
       "    }\n",
       "\n",
       "    .dataframe thead th {\n",
       "        text-align: left;\n",
       "    }\n",
       "\n",
       "    .dataframe tbody tr th {\n",
       "        vertical-align: top;\n",
       "    }\n",
       "</style>\n",
       "<table border=\"1\" class=\"dataframe\">\n",
       "  <thead>\n",
       "    <tr style=\"text-align: right;\">\n",
       "      <th></th>\n",
       "      <th>loan_amnt</th>\n",
       "      <th>term</th>\n",
       "      <th>int_rate</th>\n",
       "      <th>installment</th>\n",
       "      <th>grade</th>\n",
       "      <th>sub_grade</th>\n",
       "      <th>emp_title</th>\n",
       "      <th>emp_length</th>\n",
       "      <th>home_ownership</th>\n",
       "      <th>annual_inc</th>\n",
       "      <th>verification_status</th>\n",
       "      <th>issue_d</th>\n",
       "      <th>loan_status</th>\n",
       "      <th>desc</th>\n",
       "      <th>purpose</th>\n",
       "      <th>title</th>\n",
       "      <th>addr_state</th>\n",
       "      <th>dti</th>\n",
       "      <th>delinq_2yrs</th>\n",
       "      <th>earliest_cr_line</th>\n",
       "      <th>fico_range_low</th>\n",
       "      <th>fico_range_high</th>\n",
       "      <th>inq_last_6mths</th>\n",
       "      <th>mths_since_last_delinq</th>\n",
       "      <th>mths_since_last_record</th>\n",
       "      <th>open_acc</th>\n",
       "      <th>pub_rec</th>\n",
       "      <th>revol_bal</th>\n",
       "      <th>revol_util</th>\n",
       "      <th>total_acc</th>\n",
       "      <th>total_pymnt</th>\n",
       "      <th>collections_12_mths_ex_med</th>\n",
       "      <th>mths_since_last_major_derog</th>\n",
       "      <th>acc_now_delinq</th>\n",
       "      <th>tot_coll_amt</th>\n",
       "      <th>tot_cur_bal</th>\n",
       "      <th>open_acc_6m</th>\n",
       "      <th>open_il_6m</th>\n",
       "      <th>open_il_12m</th>\n",
       "      <th>open_il_24m</th>\n",
       "      <th>mths_since_rcnt_il</th>\n",
       "      <th>total_bal_il</th>\n",
       "      <th>il_util</th>\n",
       "      <th>open_rv_12m</th>\n",
       "      <th>open_rv_24m</th>\n",
       "      <th>max_bal_bc</th>\n",
       "      <th>all_util</th>\n",
       "      <th>total_rev_hi_lim</th>\n",
       "      <th>inq_fi</th>\n",
       "      <th>total_cu_tl</th>\n",
       "      <th>inq_last_12m</th>\n",
       "      <th>acc_open_past_24mths</th>\n",
       "      <th>avg_cur_bal</th>\n",
       "      <th>bc_open_to_buy</th>\n",
       "      <th>bc_util</th>\n",
       "      <th>chargeoff_within_12_mths</th>\n",
       "      <th>delinq_amnt</th>\n",
       "      <th>mo_sin_old_il_acct</th>\n",
       "      <th>mo_sin_old_rev_tl_op</th>\n",
       "      <th>mo_sin_rcnt_rev_tl_op</th>\n",
       "      <th>mo_sin_rcnt_tl</th>\n",
       "      <th>mort_acc</th>\n",
       "      <th>mths_since_recent_bc</th>\n",
       "      <th>mths_since_recent_bc_dlq</th>\n",
       "      <th>mths_since_recent_inq</th>\n",
       "      <th>mths_since_recent_revol_delinq</th>\n",
       "      <th>num_accts_ever_120_pd</th>\n",
       "      <th>num_actv_bc_tl</th>\n",
       "      <th>num_actv_rev_tl</th>\n",
       "      <th>num_bc_sats</th>\n",
       "      <th>num_bc_tl</th>\n",
       "      <th>num_il_tl</th>\n",
       "      <th>num_op_rev_tl</th>\n",
       "      <th>num_rev_accts</th>\n",
       "      <th>num_rev_tl_bal_gt_0</th>\n",
       "      <th>num_sats</th>\n",
       "      <th>num_tl_120dpd_2m</th>\n",
       "      <th>num_tl_30dpd</th>\n",
       "      <th>num_tl_90g_dpd_24m</th>\n",
       "      <th>num_tl_op_past_12m</th>\n",
       "      <th>pct_tl_nvr_dlq</th>\n",
       "      <th>percent_bc_gt_75</th>\n",
       "      <th>pub_rec_bankruptcies</th>\n",
       "      <th>tax_liens</th>\n",
       "      <th>tot_hi_cred_lim</th>\n",
       "      <th>total_bal_ex_mort</th>\n",
       "      <th>total_bc_limit</th>\n",
       "      <th>total_il_high_credit_limit</th>\n",
       "      <th>fico_mean</th>\n",
       "      <th>cr_line_days</th>\n",
       "    </tr>\n",
       "  </thead>\n",
       "  <tbody>\n",
       "    <tr>\n",
       "      <th>0</th>\n",
       "      <td>5000.0</td>\n",
       "      <td>36</td>\n",
       "      <td>0.1065</td>\n",
       "      <td>162.87</td>\n",
       "      <td>B</td>\n",
       "      <td>B2</td>\n",
       "      <td>NaN</td>\n",
       "      <td>10+ years</td>\n",
       "      <td>RENT</td>\n",
       "      <td>24000.0</td>\n",
       "      <td>Verified</td>\n",
       "      <td>2011-12-01</td>\n",
       "      <td>Fully Paid</td>\n",
       "      <td>Borrower added on 12/22/11 &gt; I need to upgra...</td>\n",
       "      <td>credit_card</td>\n",
       "      <td>Computer</td>\n",
       "      <td>AZ</td>\n",
       "      <td>27.65</td>\n",
       "      <td>0.0</td>\n",
       "      <td>1985-01-01</td>\n",
       "      <td>735.0</td>\n",
       "      <td>739.0</td>\n",
       "      <td>1.0</td>\n",
       "      <td>NaN</td>\n",
       "      <td>NaN</td>\n",
       "      <td>3.0</td>\n",
       "      <td>0.0</td>\n",
       "      <td>13648.0</td>\n",
       "      <td>0.837</td>\n",
       "      <td>9.0</td>\n",
       "      <td>5863.155187</td>\n",
       "      <td>0.0</td>\n",
       "      <td>NaN</td>\n",
       "      <td>0.0</td>\n",
       "      <td>NaN</td>\n",
       "      <td>NaN</td>\n",
       "      <td>NaN</td>\n",
       "      <td>NaN</td>\n",
       "      <td>NaN</td>\n",
       "      <td>NaN</td>\n",
       "      <td>NaN</td>\n",
       "      <td>NaN</td>\n",
       "      <td>NaN</td>\n",
       "      <td>NaN</td>\n",
       "      <td>NaN</td>\n",
       "      <td>NaN</td>\n",
       "      <td>NaN</td>\n",
       "      <td>NaN</td>\n",
       "      <td>NaN</td>\n",
       "      <td>NaN</td>\n",
       "      <td>NaN</td>\n",
       "      <td>NaN</td>\n",
       "      <td>NaN</td>\n",
       "      <td>NaN</td>\n",
       "      <td>NaN</td>\n",
       "      <td>0.0</td>\n",
       "      <td>0.0</td>\n",
       "      <td>NaN</td>\n",
       "      <td>NaN</td>\n",
       "      <td>NaN</td>\n",
       "      <td>NaN</td>\n",
       "      <td>NaN</td>\n",
       "      <td>NaN</td>\n",
       "      <td>NaN</td>\n",
       "      <td>NaN</td>\n",
       "      <td>NaN</td>\n",
       "      <td>NaN</td>\n",
       "      <td>NaN</td>\n",
       "      <td>NaN</td>\n",
       "      <td>NaN</td>\n",
       "      <td>NaN</td>\n",
       "      <td>NaN</td>\n",
       "      <td>NaN</td>\n",
       "      <td>NaN</td>\n",
       "      <td>NaN</td>\n",
       "      <td>NaN</td>\n",
       "      <td>NaN</td>\n",
       "      <td>NaN</td>\n",
       "      <td>NaN</td>\n",
       "      <td>NaN</td>\n",
       "      <td>NaN</td>\n",
       "      <td>NaN</td>\n",
       "      <td>0.0</td>\n",
       "      <td>0.0</td>\n",
       "      <td>NaN</td>\n",
       "      <td>NaN</td>\n",
       "      <td>NaN</td>\n",
       "      <td>NaN</td>\n",
       "      <td>737.0</td>\n",
       "      <td>849312000000000000</td>\n",
       "    </tr>\n",
       "    <tr>\n",
       "      <th>1</th>\n",
       "      <td>2500.0</td>\n",
       "      <td>60</td>\n",
       "      <td>0.1527</td>\n",
       "      <td>59.83</td>\n",
       "      <td>C</td>\n",
       "      <td>C4</td>\n",
       "      <td>Ryder</td>\n",
       "      <td>&lt; 1 year</td>\n",
       "      <td>RENT</td>\n",
       "      <td>30000.0</td>\n",
       "      <td>Source Verified</td>\n",
       "      <td>2011-12-01</td>\n",
       "      <td>Charged Off</td>\n",
       "      <td>Borrower added on 12/22/11 &gt; I plan to use t...</td>\n",
       "      <td>car</td>\n",
       "      <td>bike</td>\n",
       "      <td>GA</td>\n",
       "      <td>1.00</td>\n",
       "      <td>0.0</td>\n",
       "      <td>1999-04-01</td>\n",
       "      <td>740.0</td>\n",
       "      <td>744.0</td>\n",
       "      <td>5.0</td>\n",
       "      <td>NaN</td>\n",
       "      <td>NaN</td>\n",
       "      <td>3.0</td>\n",
       "      <td>0.0</td>\n",
       "      <td>1687.0</td>\n",
       "      <td>0.094</td>\n",
       "      <td>4.0</td>\n",
       "      <td>1014.530000</td>\n",
       "      <td>0.0</td>\n",
       "      <td>NaN</td>\n",
       "      <td>0.0</td>\n",
       "      <td>NaN</td>\n",
       "      <td>NaN</td>\n",
       "      <td>NaN</td>\n",
       "      <td>NaN</td>\n",
       "      <td>NaN</td>\n",
       "      <td>NaN</td>\n",
       "      <td>NaN</td>\n",
       "      <td>NaN</td>\n",
       "      <td>NaN</td>\n",
       "      <td>NaN</td>\n",
       "      <td>NaN</td>\n",
       "      <td>NaN</td>\n",
       "      <td>NaN</td>\n",
       "      <td>NaN</td>\n",
       "      <td>NaN</td>\n",
       "      <td>NaN</td>\n",
       "      <td>NaN</td>\n",
       "      <td>NaN</td>\n",
       "      <td>NaN</td>\n",
       "      <td>NaN</td>\n",
       "      <td>NaN</td>\n",
       "      <td>0.0</td>\n",
       "      <td>0.0</td>\n",
       "      <td>NaN</td>\n",
       "      <td>NaN</td>\n",
       "      <td>NaN</td>\n",
       "      <td>NaN</td>\n",
       "      <td>NaN</td>\n",
       "      <td>NaN</td>\n",
       "      <td>NaN</td>\n",
       "      <td>NaN</td>\n",
       "      <td>NaN</td>\n",
       "      <td>NaN</td>\n",
       "      <td>NaN</td>\n",
       "      <td>NaN</td>\n",
       "      <td>NaN</td>\n",
       "      <td>NaN</td>\n",
       "      <td>NaN</td>\n",
       "      <td>NaN</td>\n",
       "      <td>NaN</td>\n",
       "      <td>NaN</td>\n",
       "      <td>NaN</td>\n",
       "      <td>NaN</td>\n",
       "      <td>NaN</td>\n",
       "      <td>NaN</td>\n",
       "      <td>NaN</td>\n",
       "      <td>NaN</td>\n",
       "      <td>NaN</td>\n",
       "      <td>0.0</td>\n",
       "      <td>0.0</td>\n",
       "      <td>NaN</td>\n",
       "      <td>NaN</td>\n",
       "      <td>NaN</td>\n",
       "      <td>NaN</td>\n",
       "      <td>742.0</td>\n",
       "      <td>399772800000000000</td>\n",
       "    </tr>\n",
       "  </tbody>\n",
       "</table>\n",
       "</div>"
      ],
      "text/plain": [
       "   loan_amnt  term  int_rate  installment grade sub_grade emp_title  \\\n",
       "0     5000.0    36    0.1065       162.87     B        B2       NaN   \n",
       "1     2500.0    60    0.1527        59.83     C        C4     Ryder   \n",
       "\n",
       "  emp_length home_ownership  annual_inc verification_status    issue_d  \\\n",
       "0  10+ years           RENT     24000.0            Verified 2011-12-01   \n",
       "1   < 1 year           RENT     30000.0     Source Verified 2011-12-01   \n",
       "\n",
       "   loan_status                                               desc  \\\n",
       "0   Fully Paid    Borrower added on 12/22/11 > I need to upgra...   \n",
       "1  Charged Off    Borrower added on 12/22/11 > I plan to use t...   \n",
       "\n",
       "       purpose     title addr_state    dti  delinq_2yrs earliest_cr_line  \\\n",
       "0  credit_card  Computer         AZ  27.65          0.0       1985-01-01   \n",
       "1          car      bike         GA   1.00          0.0       1999-04-01   \n",
       "\n",
       "   fico_range_low  fico_range_high  inq_last_6mths  mths_since_last_delinq  \\\n",
       "0           735.0            739.0             1.0                     NaN   \n",
       "1           740.0            744.0             5.0                     NaN   \n",
       "\n",
       "   mths_since_last_record  open_acc  pub_rec  revol_bal  revol_util  \\\n",
       "0                     NaN       3.0      0.0    13648.0       0.837   \n",
       "1                     NaN       3.0      0.0     1687.0       0.094   \n",
       "\n",
       "   total_acc  total_pymnt  collections_12_mths_ex_med  \\\n",
       "0        9.0  5863.155187                         0.0   \n",
       "1        4.0  1014.530000                         0.0   \n",
       "\n",
       "   mths_since_last_major_derog  acc_now_delinq  tot_coll_amt  tot_cur_bal  \\\n",
       "0                          NaN             0.0           NaN          NaN   \n",
       "1                          NaN             0.0           NaN          NaN   \n",
       "\n",
       "   open_acc_6m  open_il_6m  open_il_12m  open_il_24m  mths_since_rcnt_il  \\\n",
       "0          NaN         NaN          NaN          NaN                 NaN   \n",
       "1          NaN         NaN          NaN          NaN                 NaN   \n",
       "\n",
       "   total_bal_il  il_util  open_rv_12m  open_rv_24m  max_bal_bc  all_util  \\\n",
       "0           NaN      NaN          NaN          NaN         NaN       NaN   \n",
       "1           NaN      NaN          NaN          NaN         NaN       NaN   \n",
       "\n",
       "   total_rev_hi_lim  inq_fi  total_cu_tl  inq_last_12m  acc_open_past_24mths  \\\n",
       "0               NaN     NaN          NaN           NaN                   NaN   \n",
       "1               NaN     NaN          NaN           NaN                   NaN   \n",
       "\n",
       "   avg_cur_bal  bc_open_to_buy  bc_util  chargeoff_within_12_mths  \\\n",
       "0          NaN             NaN      NaN                       0.0   \n",
       "1          NaN             NaN      NaN                       0.0   \n",
       "\n",
       "   delinq_amnt  mo_sin_old_il_acct  mo_sin_old_rev_tl_op  \\\n",
       "0          0.0                 NaN                   NaN   \n",
       "1          0.0                 NaN                   NaN   \n",
       "\n",
       "   mo_sin_rcnt_rev_tl_op  mo_sin_rcnt_tl  mort_acc  mths_since_recent_bc  \\\n",
       "0                    NaN             NaN       NaN                   NaN   \n",
       "1                    NaN             NaN       NaN                   NaN   \n",
       "\n",
       "   mths_since_recent_bc_dlq  mths_since_recent_inq  \\\n",
       "0                       NaN                    NaN   \n",
       "1                       NaN                    NaN   \n",
       "\n",
       "   mths_since_recent_revol_delinq  num_accts_ever_120_pd  num_actv_bc_tl  \\\n",
       "0                             NaN                    NaN             NaN   \n",
       "1                             NaN                    NaN             NaN   \n",
       "\n",
       "   num_actv_rev_tl  num_bc_sats  num_bc_tl  num_il_tl  num_op_rev_tl  \\\n",
       "0              NaN          NaN        NaN        NaN            NaN   \n",
       "1              NaN          NaN        NaN        NaN            NaN   \n",
       "\n",
       "   num_rev_accts  num_rev_tl_bal_gt_0  num_sats  num_tl_120dpd_2m  \\\n",
       "0            NaN                  NaN       NaN               NaN   \n",
       "1            NaN                  NaN       NaN               NaN   \n",
       "\n",
       "   num_tl_30dpd  num_tl_90g_dpd_24m  num_tl_op_past_12m  pct_tl_nvr_dlq  \\\n",
       "0           NaN                 NaN                 NaN             NaN   \n",
       "1           NaN                 NaN                 NaN             NaN   \n",
       "\n",
       "   percent_bc_gt_75  pub_rec_bankruptcies  tax_liens  tot_hi_cred_lim  \\\n",
       "0               NaN                   0.0        0.0              NaN   \n",
       "1               NaN                   0.0        0.0              NaN   \n",
       "\n",
       "   total_bal_ex_mort  total_bc_limit  total_il_high_credit_limit  fico_mean  \\\n",
       "0                NaN             NaN                         NaN      737.0   \n",
       "1                NaN             NaN                         NaN      742.0   \n",
       "\n",
       "         cr_line_days  \n",
       "0  849312000000000000  \n",
       "1  399772800000000000  "
      ]
     },
     "execution_count": 30,
     "metadata": {},
     "output_type": "execute_result"
    }
   ],
   "source": [
    "result.head(2)"
   ]
  },
  {
   "cell_type": "code",
   "execution_count": 11,
   "metadata": {
    "collapsed": true
   },
   "outputs": [],
   "source": [
    "result.to_pickle('/Users/pwu/dsi-plus/capstone/docker/postgres/data/cleaned_cols_09092017.pkl')"
   ]
  },
  {
   "cell_type": "code",
   "execution_count": 12,
   "metadata": {
    "collapsed": true
   },
   "outputs": [],
   "source": [
    "result = pd.read_pickle('/Users/pwu/dsi-plus/capstone/docker/postgres/data/cleaned_cols_09092017.pkl')"
   ]
  },
  {
   "cell_type": "code",
   "execution_count": 13,
   "metadata": {},
   "outputs": [
    {
     "data": {
      "text/plain": [
       "il_util                           0.867756\n",
       "mths_since_rcnt_il                0.851822\n",
       "all_util                          0.848533\n",
       "total_cu_tl                       0.848524\n",
       "inq_last_12m                      0.848524\n",
       "open_acc_6m                       0.848524\n",
       "open_il_6m                        0.848522\n",
       "open_il_12m                       0.848522\n",
       "open_il_24m                       0.848522\n",
       "total_bal_il                      0.848522\n",
       "open_rv_24m                       0.848522\n",
       "max_bal_bc                        0.848522\n",
       "inq_fi                            0.848522\n",
       "open_rv_12m                       0.848522\n",
       "mths_since_last_record            0.841722\n",
       "desc                              0.818703\n",
       "mths_since_recent_bc_dlq          0.774127\n",
       "mths_since_last_major_derog       0.757762\n",
       "mths_since_recent_revol_delinq    0.683092\n",
       "mths_since_last_delinq            0.519142\n",
       "mths_since_recent_inq             0.159426\n",
       "num_tl_120dpd_2m                  0.134491\n",
       "mo_sin_old_il_acct                0.132007\n",
       "pct_tl_nvr_dlq                    0.105534\n",
       "avg_cur_bal                       0.105354\n",
       "num_rev_accts                     0.105337\n",
       "mo_sin_rcnt_rev_tl_op             0.105337\n",
       "mo_sin_old_rev_tl_op              0.105337\n",
       "tot_hi_cred_lim                   0.105336\n",
       "tot_cur_bal                       0.105336\n",
       "tot_coll_amt                      0.105336\n",
       "total_il_high_credit_limit        0.105336\n",
       "num_tl_op_past_12m                0.105336\n",
       "num_tl_90g_dpd_24m                0.105336\n",
       "num_tl_30dpd                      0.105336\n",
       "total_rev_hi_lim                  0.105336\n",
       "num_rev_tl_bal_gt_0               0.105336\n",
       "num_il_tl                         0.105336\n",
       "num_op_rev_tl                     0.105336\n",
       "num_bc_tl                         0.105336\n",
       "num_actv_rev_tl                   0.105336\n",
       "mo_sin_rcnt_tl                    0.105336\n",
       "num_actv_bc_tl                    0.105336\n",
       "num_accts_ever_120_pd             0.105336\n",
       "num_sats                          0.088029\n",
       "num_bc_sats                       0.088029\n",
       "bc_util                           0.085198\n",
       "percent_bc_gt_75                  0.084959\n",
       "bc_open_to_buy                    0.084609\n",
       "mths_since_recent_bc              0.083855\n",
       "total_bal_ex_mort                 0.075170\n",
       "total_bc_limit                    0.075170\n",
       "mort_acc                          0.075170\n",
       "acc_open_past_24mths              0.075170\n",
       "emp_title                         0.058348\n",
       "title                             0.007469\n",
       "pub_rec_bankruptcies              0.002051\n",
       "revol_util                        0.000657\n",
       "collections_12_mths_ex_med        0.000218\n",
       "chargeoff_within_12_mths          0.000218\n",
       "tax_liens                         0.000158\n",
       "inq_last_6mths                    0.000045\n",
       "total_acc                         0.000044\n",
       "pub_rec                           0.000044\n",
       "open_acc                          0.000044\n",
       "acc_now_delinq                    0.000044\n",
       "earliest_cr_line                  0.000044\n",
       "delinq_2yrs                       0.000044\n",
       "delinq_amnt                       0.000044\n",
       "annual_inc                        0.000006\n",
       "sub_grade                         0.000000\n",
       "emp_length                        0.000000\n",
       "installment                       0.000000\n",
       "grade                             0.000000\n",
       "funded_amnt                       0.000000\n",
       "int_rate                          0.000000\n",
       "term                              0.000000\n",
       "home_ownership                    0.000000\n",
       "fico_mean                         0.000000\n",
       "verification_status               0.000000\n",
       "issue_d                           0.000000\n",
       "loan_status                       0.000000\n",
       "purpose                           0.000000\n",
       "addr_state                        0.000000\n",
       "dti                               0.000000\n",
       "fico_range_low                    0.000000\n",
       "fico_range_high                   0.000000\n",
       "revol_bal                         0.000000\n",
       "total_pymnt                       0.000000\n",
       "loan_amnt                         0.000000\n",
       "dtype: float64"
      ]
     },
     "execution_count": 13,
     "metadata": {},
     "output_type": "execute_result"
    }
   ],
   "source": [
    "#check to see how much data is missing.  higher number means more missing data\n",
    "result.isnull().sum(axis=0).sort_values(ascending=False)/float(len(result))"
   ]
  },
  {
   "cell_type": "code",
   "execution_count": 14,
   "metadata": {
    "collapsed": true
   },
   "outputs": [],
   "source": [
    "#delete columns with more than 50% null values\n",
    "null_vals = result.isnull().sum(axis=0).sort_values(ascending=False)/float(len(result))\n",
    "result.drop(null_vals[null_vals > .5].index, axis = 1, inplace = True)"
   ]
  },
  {
   "cell_type": "code",
   "execution_count": 15,
   "metadata": {},
   "outputs": [
    {
     "data": {
      "text/plain": [
       "mths_since_recent_inq         0.159426\n",
       "num_tl_120dpd_2m              0.134491\n",
       "mo_sin_old_il_acct            0.132007\n",
       "pct_tl_nvr_dlq                0.105534\n",
       "avg_cur_bal                   0.105354\n",
       "mo_sin_old_rev_tl_op          0.105337\n",
       "mo_sin_rcnt_rev_tl_op         0.105337\n",
       "num_rev_accts                 0.105337\n",
       "num_il_tl                     0.105336\n",
       "num_bc_tl                     0.105336\n",
       "tot_hi_cred_lim               0.105336\n",
       "tot_coll_amt                  0.105336\n",
       "total_rev_hi_lim              0.105336\n",
       "num_accts_ever_120_pd         0.105336\n",
       "num_actv_bc_tl                0.105336\n",
       "num_actv_rev_tl               0.105336\n",
       "num_tl_op_past_12m            0.105336\n",
       "mo_sin_rcnt_tl                0.105336\n",
       "tot_cur_bal                   0.105336\n",
       "num_op_rev_tl                 0.105336\n",
       "num_rev_tl_bal_gt_0           0.105336\n",
       "total_il_high_credit_limit    0.105336\n",
       "num_tl_30dpd                  0.105336\n",
       "num_tl_90g_dpd_24m            0.105336\n",
       "num_sats                      0.088029\n",
       "num_bc_sats                   0.088029\n",
       "bc_util                       0.085198\n",
       "percent_bc_gt_75              0.084959\n",
       "bc_open_to_buy                0.084609\n",
       "mths_since_recent_bc          0.083855\n",
       "acc_open_past_24mths          0.075170\n",
       "mort_acc                      0.075170\n",
       "total_bal_ex_mort             0.075170\n",
       "total_bc_limit                0.075170\n",
       "emp_title                     0.058348\n",
       "title                         0.007469\n",
       "pub_rec_bankruptcies          0.002051\n",
       "revol_util                    0.000657\n",
       "chargeoff_within_12_mths      0.000218\n",
       "collections_12_mths_ex_med    0.000218\n",
       "tax_liens                     0.000158\n",
       "inq_last_6mths                0.000045\n",
       "pub_rec                       0.000044\n",
       "earliest_cr_line              0.000044\n",
       "open_acc                      0.000044\n",
       "delinq_2yrs                   0.000044\n",
       "delinq_amnt                   0.000044\n",
       "total_acc                     0.000044\n",
       "acc_now_delinq                0.000044\n",
       "annual_inc                    0.000006\n",
       "sub_grade                     0.000000\n",
       "emp_length                    0.000000\n",
       "term                          0.000000\n",
       "grade                         0.000000\n",
       "installment                   0.000000\n",
       "int_rate                      0.000000\n",
       "funded_amnt                   0.000000\n",
       "home_ownership                0.000000\n",
       "fico_mean                     0.000000\n",
       "verification_status           0.000000\n",
       "issue_d                       0.000000\n",
       "loan_status                   0.000000\n",
       "purpose                       0.000000\n",
       "addr_state                    0.000000\n",
       "dti                           0.000000\n",
       "fico_range_low                0.000000\n",
       "fico_range_high               0.000000\n",
       "revol_bal                     0.000000\n",
       "total_pymnt                   0.000000\n",
       "loan_amnt                     0.000000\n",
       "dtype: float64"
      ]
     },
     "execution_count": 15,
     "metadata": {},
     "output_type": "execute_result"
    }
   ],
   "source": [
    "result.isnull().sum(axis=0).sort_values(ascending=False)/float(len(result))"
   ]
  },
  {
   "cell_type": "code",
   "execution_count": 16,
   "metadata": {
    "collapsed": true
   },
   "outputs": [],
   "source": [
    "#'annual_inc' not filled in.  assume $0 income\n",
    "result['annual_inc'].fillna(0, inplace = True)\n",
    "#'delinq_2yrs' not filled in.  assume 0 delinquencies.\n",
    "result['delinq_2yrs'].fillna(0, inplace = True)\n",
    "#'earliest_cr_line' not filled in. assume no credit history so setting it to the same as the loan_issue_date\n",
    "result['earliest_cr_line'].fillna(result['issue_d'], inplace = True)\n",
    "#'inq_last_6mths' not filled in.  assume 0 inquries\n",
    "result['inq_last_6mths'].fillna(0, inplace = True)\n",
    "#'mths_since_last_delinq' not filled in.  assume no delinquincies. how to represent?  set to Max value?\n",
    "#result['mths_since_last_delinq'].fillna(0, inplace = True)\n",
    "#fill in the blank values form 'emp_title'\n",
    "result['emp_title'].fillna('NA', inplace = True)\n",
    "#fill in the blank values form 'title'\n",
    "result['title'].fillna('NA', inplace = True)\n",
    "#fill in 'open_acc' with the mean value\n",
    "result['open_acc'].fillna(result['open_acc'].mean(), inplace = True)\n",
    "#fill in 'pub_rec' with 0\n",
    "result['pub_rec'].fillna(0, inplace = True)\n",
    "#'revol_util' set to 0 assuming if there is no value then they are not using their credit line\n",
    "result['revol_util'].fillna(0, inplace = True)\n",
    "#'total_acc' set to mean assuming most people have certain number of credit lines\n",
    "result['total_acc'].fillna(result['total_acc'].mean(), inplace = True)\n",
    "#'collections_12_mths_ex_med' set to 0 assuming they don't have collections\n",
    "result['collections_12_mths_ex_med'].fillna(0, inplace = True)\n",
    "#result['acc_now_delinq']\n",
    "result['acc_now_delinq'].fillna(0, inplace = True)\n",
    "#tot_coll_amt\n",
    "result['tot_coll_amt'].fillna(0, inplace = True)\n",
    "#tot_cur_bal\n",
    "result['tot_cur_bal'].fillna(0, inplace = True)\n",
    "#total_rev_hi_lim\n",
    "result['total_rev_hi_lim'].fillna(0, inplace = True)\n",
    "#acc_open_past_24mths\n",
    "result['acc_open_past_24mths'].fillna(result['acc_open_past_24mths'].mean(), inplace = True)\n",
    "#avg_cur_bal\n",
    "result['avg_cur_bal'].fillna(0, inplace = True)\n",
    "#bc_open_to_buy\n",
    "result['bc_open_to_buy'].fillna(0, inplace = True)\n",
    "#mo_sin_old_il_acct\n",
    "result['mo_sin_old_il_acct'].fillna(result['mo_sin_old_il_acct'].mean(), inplace = True)\n",
    "#bc_util\n",
    "result['bc_util'].fillna(result['bc_util'].mean(), inplace = True)\n",
    "#chargeoff_within_12_mths\n",
    "result['chargeoff_within_12_mths'].fillna(0, inplace = True)\n",
    "#delinq_amnt\n",
    "result['delinq_amnt'].fillna(0, inplace = True)\n",
    "#mo_sin_old_il_acct\n",
    "result['mo_sin_old_il_acct'].fillna(result['mo_sin_old_il_acct'].mean(), inplace = True)\n",
    "#mo_sin_old_rev_tl_op\n",
    "result['mo_sin_old_rev_tl_op'].fillna(result['mo_sin_old_rev_tl_op'].mean(), inplace = True)\n",
    "#mo_sin_rcnt_rev_tl_op\n",
    "result['mo_sin_rcnt_rev_tl_op'].fillna(result['mo_sin_rcnt_rev_tl_op'].mean(), inplace = True)\n",
    "#mo_sin_rcnt_tl\n",
    "result['mo_sin_rcnt_tl'].fillna(result['mo_sin_rcnt_tl'].mean(), inplace = True)\n",
    "#mort_acc\n",
    "result['mort_acc'].fillna(0, inplace = True)\n",
    "#mths_since_recent_bc\n",
    "result['mths_since_recent_bc'].fillna(result['mths_since_recent_bc'].mean(), inplace = True)\n",
    "#mths_since_recent_inq\n",
    "result['mths_since_recent_inq'].fillna(result['mths_since_recent_inq'].mean().round(0), inplace = True)\n",
    "#num_accts_ever_120_pd\n",
    "result['num_accts_ever_120_pd'].fillna(0, inplace = True)\n",
    "#num_actv_bc_tl\n",
    "result['num_actv_bc_tl'].fillna(result['num_actv_bc_tl'].mean().round(0),inplace = True )\n",
    "#num_actv_rev_tl\n",
    "result['num_actv_rev_tl'].fillna(result['num_actv_rev_tl'].mean().round(0), inplace = True)\n",
    "#num_bc_sats\n",
    "result['num_bc_sats'].fillna(result['num_bc_sats'].mean().round(0), inplace = True)\n",
    "#num_bc_tl\n",
    "result['num_bc_tl'].fillna(result['num_bc_tl'].mean().round(0), inplace = True)\n",
    "#num_il_tl\n",
    "result['num_il_tl'].fillna(result['num_il_tl'].mean().round(0), inplace = True)\n",
    "#num_op_rev_tl\n",
    "result['num_op_rev_tl'].fillna(result['num_op_rev_tl'].mean().round(0), inplace = True)\n",
    "#num_rev_accts\n",
    "result['num_rev_accts'].fillna(result['num_rev_accts'].mean().round(0), inplace = True)\n",
    "#num_rev_tl_bal_gt_0\n",
    "result['num_rev_tl_bal_gt_0'].fillna(result['num_rev_tl_bal_gt_0'].mean().round(0), inplace = True)\n",
    "#num_sats\n",
    "result['num_sats'].fillna(result['num_sats'].mean().round(0), inplace = True)\n",
    "#num_tl_120dpd_2m\n",
    "result['num_tl_120dpd_2m'].fillna(0, inplace = True)\n",
    "#pct_tl_nvr_dlq\n",
    "result['pct_tl_nvr_dlq'].fillna(result['pct_tl_nvr_dlq'].mean().round(0), inplace = True)\n",
    "#num_tl_30dpd\n",
    "result['num_tl_30dpd'].fillna(0, inplace = True)\n",
    "#num_tl_90g_dpd_24m\n",
    "result['num_tl_90g_dpd_24m'].fillna(0, inplace = True)\n",
    "#num_tl_op_past_12m\n",
    "result['num_tl_op_past_12m'].fillna(result['num_tl_op_past_12m'].mean().round(0), inplace = True)\n",
    "#percent_bc_gt_75\n",
    "result['percent_bc_gt_75'].fillna(result['percent_bc_gt_75'].mean().round(0),inplace = True)\n",
    "#pub_rec_bankruptcies\n",
    "result['pub_rec_bankruptcies'].fillna(0, inplace = True)\n",
    "#tot_hi_cred_lim\n",
    "result['tot_hi_cred_lim'].fillna(result['tot_hi_cred_lim'].mean().round(0), inplace = True)\n",
    "#tax_liens\n",
    "result['tax_liens'].fillna(0, inplace=True)\n",
    "#total_bal_ex_mort\n",
    "result['total_bal_ex_mort'].fillna(result['total_bal_ex_mort'].mean().round(0), inplace = True)\n",
    "#total_bc_limit\n",
    "result['total_bc_limit'].fillna(result['total_bc_limit'].mean().round(0), inplace = True)\n",
    "#total_il_high_credit_limit\n",
    "result['total_il_high_credit_limit'].fillna(0, inplace = True)"
   ]
  },
  {
   "cell_type": "code",
   "execution_count": 17,
   "metadata": {
    "collapsed": true
   },
   "outputs": [],
   "source": [
    "#find the number of days from when credit was first issued \n",
    "result['cr_line_days']=(result['issue_d'] - result['earliest_cr_line'])"
   ]
  },
  {
   "cell_type": "code",
   "execution_count": 18,
   "metadata": {
    "collapsed": true
   },
   "outputs": [],
   "source": [
    "result['cr_line_days']=result['cr_line_days'].astype(int)"
   ]
  },
  {
   "cell_type": "code",
   "execution_count": 19,
   "metadata": {},
   "outputs": [
    {
     "name": "stdout",
     "output_type": "stream",
     "text": [
      "<class 'pandas.core.frame.DataFrame'>\n",
      "Int64Index: 665556 entries, 0 to 1524085\n",
      "Data columns (total 71 columns):\n",
      "loan_amnt                     665556 non-null float64\n",
      "funded_amnt                   665556 non-null float64\n",
      "term                          665556 non-null int64\n",
      "int_rate                      665556 non-null float64\n",
      "installment                   665556 non-null float64\n",
      "grade                         665556 non-null object\n",
      "sub_grade                     665556 non-null object\n",
      "emp_title                     665556 non-null object\n",
      "emp_length                    665556 non-null object\n",
      "home_ownership                665556 non-null object\n",
      "annual_inc                    665556 non-null float64\n",
      "verification_status           665556 non-null object\n",
      "issue_d                       665556 non-null datetime64[ns]\n",
      "loan_status                   665556 non-null object\n",
      "purpose                       665556 non-null object\n",
      "title                         665556 non-null object\n",
      "addr_state                    665556 non-null object\n",
      "dti                           665556 non-null float64\n",
      "delinq_2yrs                   665556 non-null float64\n",
      "earliest_cr_line              665556 non-null datetime64[ns]\n",
      "fico_range_low                665556 non-null float64\n",
      "fico_range_high               665556 non-null float64\n",
      "inq_last_6mths                665556 non-null float64\n",
      "open_acc                      665556 non-null float64\n",
      "pub_rec                       665556 non-null float64\n",
      "revol_bal                     665556 non-null float64\n",
      "revol_util                    665556 non-null float64\n",
      "total_acc                     665556 non-null float64\n",
      "total_pymnt                   665556 non-null float64\n",
      "collections_12_mths_ex_med    665556 non-null float64\n",
      "acc_now_delinq                665556 non-null float64\n",
      "tot_coll_amt                  665556 non-null float64\n",
      "tot_cur_bal                   665556 non-null float64\n",
      "total_rev_hi_lim              665556 non-null float64\n",
      "acc_open_past_24mths          665556 non-null float64\n",
      "avg_cur_bal                   665556 non-null float64\n",
      "bc_open_to_buy                665556 non-null float64\n",
      "bc_util                       665556 non-null float64\n",
      "chargeoff_within_12_mths      665556 non-null float64\n",
      "delinq_amnt                   665556 non-null float64\n",
      "mo_sin_old_il_acct            665556 non-null float64\n",
      "mo_sin_old_rev_tl_op          665556 non-null float64\n",
      "mo_sin_rcnt_rev_tl_op         665556 non-null float64\n",
      "mo_sin_rcnt_tl                665556 non-null float64\n",
      "mort_acc                      665556 non-null float64\n",
      "mths_since_recent_bc          665556 non-null float64\n",
      "mths_since_recent_inq         665556 non-null float64\n",
      "num_accts_ever_120_pd         665556 non-null float64\n",
      "num_actv_bc_tl                665556 non-null float64\n",
      "num_actv_rev_tl               665556 non-null float64\n",
      "num_bc_sats                   665556 non-null float64\n",
      "num_bc_tl                     665556 non-null float64\n",
      "num_il_tl                     665556 non-null float64\n",
      "num_op_rev_tl                 665556 non-null float64\n",
      "num_rev_accts                 665556 non-null float64\n",
      "num_rev_tl_bal_gt_0           665556 non-null float64\n",
      "num_sats                      665556 non-null float64\n",
      "num_tl_120dpd_2m              665556 non-null float64\n",
      "num_tl_30dpd                  665556 non-null float64\n",
      "num_tl_90g_dpd_24m            665556 non-null float64\n",
      "num_tl_op_past_12m            665556 non-null float64\n",
      "pct_tl_nvr_dlq                665556 non-null float64\n",
      "percent_bc_gt_75              665556 non-null float64\n",
      "pub_rec_bankruptcies          665556 non-null float64\n",
      "tax_liens                     665556 non-null float64\n",
      "tot_hi_cred_lim               665556 non-null float64\n",
      "total_bal_ex_mort             665556 non-null float64\n",
      "total_bc_limit                665556 non-null float64\n",
      "total_il_high_credit_limit    665556 non-null float64\n",
      "fico_mean                     665556 non-null float64\n",
      "cr_line_days                  665556 non-null int64\n",
      "dtypes: datetime64[ns](2), float64(57), int64(2), object(10)\n",
      "memory usage: 385.6+ MB\n"
     ]
    }
   ],
   "source": [
    "result.info(verbose = True)"
   ]
  },
  {
   "cell_type": "code",
   "execution_count": 20,
   "metadata": {
    "collapsed": true
   },
   "outputs": [],
   "source": [
    "result.drop(['fico_range_low', 'fico_range_high', 'earliest_cr_line'], axis = 1, inplace = True)"
   ]
  },
  {
   "cell_type": "code",
   "execution_count": 21,
   "metadata": {},
   "outputs": [
    {
     "data": {
      "text/plain": [
       "(665556, 68)"
      ]
     },
     "execution_count": 21,
     "metadata": {},
     "output_type": "execute_result"
    }
   ],
   "source": [
    "result.shape"
   ]
  },
  {
   "cell_type": "code",
   "execution_count": 22,
   "metadata": {},
   "outputs": [
    {
     "name": "stdout",
     "output_type": "stream",
     "text": [
      "<class 'pandas.core.frame.DataFrame'>\n",
      "Int64Index: 665556 entries, 0 to 1524085\n",
      "Data columns (total 68 columns):\n",
      "loan_amnt                     665556 non-null float64\n",
      "funded_amnt                   665556 non-null float64\n",
      "term                          665556 non-null int64\n",
      "int_rate                      665556 non-null float64\n",
      "installment                   665556 non-null float64\n",
      "grade                         665556 non-null object\n",
      "sub_grade                     665556 non-null object\n",
      "emp_title                     665556 non-null object\n",
      "emp_length                    665556 non-null object\n",
      "home_ownership                665556 non-null object\n",
      "annual_inc                    665556 non-null float64\n",
      "verification_status           665556 non-null object\n",
      "issue_d                       665556 non-null datetime64[ns]\n",
      "loan_status                   665556 non-null object\n",
      "purpose                       665556 non-null object\n",
      "title                         665556 non-null object\n",
      "addr_state                    665556 non-null object\n",
      "dti                           665556 non-null float64\n",
      "delinq_2yrs                   665556 non-null float64\n",
      "inq_last_6mths                665556 non-null float64\n",
      "open_acc                      665556 non-null float64\n",
      "pub_rec                       665556 non-null float64\n",
      "revol_bal                     665556 non-null float64\n",
      "revol_util                    665556 non-null float64\n",
      "total_acc                     665556 non-null float64\n",
      "total_pymnt                   665556 non-null float64\n",
      "collections_12_mths_ex_med    665556 non-null float64\n",
      "acc_now_delinq                665556 non-null float64\n",
      "tot_coll_amt                  665556 non-null float64\n",
      "tot_cur_bal                   665556 non-null float64\n",
      "total_rev_hi_lim              665556 non-null float64\n",
      "acc_open_past_24mths          665556 non-null float64\n",
      "avg_cur_bal                   665556 non-null float64\n",
      "bc_open_to_buy                665556 non-null float64\n",
      "bc_util                       665556 non-null float64\n",
      "chargeoff_within_12_mths      665556 non-null float64\n",
      "delinq_amnt                   665556 non-null float64\n",
      "mo_sin_old_il_acct            665556 non-null float64\n",
      "mo_sin_old_rev_tl_op          665556 non-null float64\n",
      "mo_sin_rcnt_rev_tl_op         665556 non-null float64\n",
      "mo_sin_rcnt_tl                665556 non-null float64\n",
      "mort_acc                      665556 non-null float64\n",
      "mths_since_recent_bc          665556 non-null float64\n",
      "mths_since_recent_inq         665556 non-null float64\n",
      "num_accts_ever_120_pd         665556 non-null float64\n",
      "num_actv_bc_tl                665556 non-null float64\n",
      "num_actv_rev_tl               665556 non-null float64\n",
      "num_bc_sats                   665556 non-null float64\n",
      "num_bc_tl                     665556 non-null float64\n",
      "num_il_tl                     665556 non-null float64\n",
      "num_op_rev_tl                 665556 non-null float64\n",
      "num_rev_accts                 665556 non-null float64\n",
      "num_rev_tl_bal_gt_0           665556 non-null float64\n",
      "num_sats                      665556 non-null float64\n",
      "num_tl_120dpd_2m              665556 non-null float64\n",
      "num_tl_30dpd                  665556 non-null float64\n",
      "num_tl_90g_dpd_24m            665556 non-null float64\n",
      "num_tl_op_past_12m            665556 non-null float64\n",
      "pct_tl_nvr_dlq                665556 non-null float64\n",
      "percent_bc_gt_75              665556 non-null float64\n",
      "pub_rec_bankruptcies          665556 non-null float64\n",
      "tax_liens                     665556 non-null float64\n",
      "tot_hi_cred_lim               665556 non-null float64\n",
      "total_bal_ex_mort             665556 non-null float64\n",
      "total_bc_limit                665556 non-null float64\n",
      "total_il_high_credit_limit    665556 non-null float64\n",
      "fico_mean                     665556 non-null float64\n",
      "cr_line_days                  665556 non-null int64\n",
      "dtypes: datetime64[ns](1), float64(55), int64(2), object(10)\n",
      "memory usage: 370.4+ MB\n"
     ]
    }
   ],
   "source": [
    "result.info(verbose = True)"
   ]
  },
  {
   "cell_type": "code",
   "execution_count": 23,
   "metadata": {
    "collapsed": true
   },
   "outputs": [],
   "source": [
    "result.to_pickle('/Users/pwu/dsi-plus/capstone/docker/postgres/data/all_cleaned_09092017.pkl')"
   ]
  },
  {
   "cell_type": "code",
   "execution_count": null,
   "metadata": {
    "collapsed": true
   },
   "outputs": [],
   "source": []
  },
  {
   "cell_type": "code",
   "execution_count": null,
   "metadata": {
    "collapsed": true
   },
   "outputs": [],
   "source": []
  }
 ],
 "metadata": {
  "kernelspec": {
   "display_name": "Python [conda env:py36]",
   "language": "python",
   "name": "conda-env-py36-py"
  },
  "language_info": {
   "codemirror_mode": {
    "name": "ipython",
    "version": 3
   },
   "file_extension": ".py",
   "mimetype": "text/x-python",
   "name": "python",
   "nbconvert_exporter": "python",
   "pygments_lexer": "ipython3",
   "version": "3.6.1"
  }
 },
 "nbformat": 4,
 "nbformat_minor": 2
}
